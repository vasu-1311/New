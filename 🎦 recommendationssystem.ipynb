{
 "cells": [
  {
   "cell_type": "code",
   "execution_count": 1,
   "id": "d4b7a844-5f20-419e-b627-ada6085ce135",
   "metadata": {
    "ExecuteTime": {
     "end_time": "2025-01-23T05:24:29.985102Z",
     "start_time": "2025-01-23T05:24:29.492275Z"
    }
   },
   "outputs": [],
   "source": [
    "import numpy as np\n",
    "import pandas as pd"
   ]
  },
  {
   "cell_type": "code",
   "execution_count": 2,
   "id": "eda5e679-5cf7-4aef-8aed-757e27eef4e6",
   "metadata": {
    "ExecuteTime": {
     "end_time": "2025-01-23T05:24:30.438571Z",
     "start_time": "2025-01-23T05:24:29.991490Z"
    }
   },
   "outputs": [],
   "source": [
    "movies=pd.read_csv('tmdb_5000_movies.csv')\n",
    "credit=pd.read_csv('tmdb_5000_credits.csv')"
   ]
  },
  {
   "cell_type": "code",
   "execution_count": 3,
   "id": "3ade6b1c-de11-4284-9184-5c0772aa2bd5",
   "metadata": {
    "ExecuteTime": {
     "end_time": "2025-01-23T05:24:30.470614Z",
     "start_time": "2025-01-23T05:24:30.462611Z"
    }
   },
   "outputs": [
    {
     "data": {
      "text/plain": [
       "array([237000000])"
      ]
     },
     "execution_count": 3,
     "metadata": {},
     "output_type": "execute_result"
    }
   ],
   "source": [
    "movies.head(1)['budget'].values\n"
   ]
  },
  {
   "cell_type": "code",
   "execution_count": 4,
   "id": "45279506-2ecc-4653-8cef-17afb601591c",
   "metadata": {
    "ExecuteTime": {
     "end_time": "2025-01-23T05:24:30.511936Z",
     "start_time": "2025-01-23T05:24:30.505937Z"
    }
   },
   "outputs": [
    {
     "data": {
      "text/plain": [
       "array(['[{\"cast_id\": 242, \"character\": \"Jake Sully\", \"credit_id\": \"5602a8a7c3a3685532001c9a\", \"gender\": 2, \"id\": 65731, \"name\": \"Sam Worthington\", \"order\": 0}, {\"cast_id\": 3, \"character\": \"Neytiri\", \"credit_id\": \"52fe48009251416c750ac9cb\", \"gender\": 1, \"id\": 8691, \"name\": \"Zoe Saldana\", \"order\": 1}, {\"cast_id\": 25, \"character\": \"Dr. Grace Augustine\", \"credit_id\": \"52fe48009251416c750aca39\", \"gender\": 1, \"id\": 10205, \"name\": \"Sigourney Weaver\", \"order\": 2}, {\"cast_id\": 4, \"character\": \"Col. Quaritch\", \"credit_id\": \"52fe48009251416c750ac9cf\", \"gender\": 2, \"id\": 32747, \"name\": \"Stephen Lang\", \"order\": 3}, {\"cast_id\": 5, \"character\": \"Trudy Chacon\", \"credit_id\": \"52fe48009251416c750ac9d3\", \"gender\": 1, \"id\": 17647, \"name\": \"Michelle Rodriguez\", \"order\": 4}, {\"cast_id\": 8, \"character\": \"Selfridge\", \"credit_id\": \"52fe48009251416c750ac9e1\", \"gender\": 2, \"id\": 1771, \"name\": \"Giovanni Ribisi\", \"order\": 5}, {\"cast_id\": 7, \"character\": \"Norm Spellman\", \"credit_id\": \"52fe48009251416c750ac9dd\", \"gender\": 2, \"id\": 59231, \"name\": \"Joel David Moore\", \"order\": 6}, {\"cast_id\": 9, \"character\": \"Moat\", \"credit_id\": \"52fe48009251416c750ac9e5\", \"gender\": 1, \"id\": 30485, \"name\": \"CCH Pounder\", \"order\": 7}, {\"cast_id\": 11, \"character\": \"Eytukan\", \"credit_id\": \"52fe48009251416c750ac9ed\", \"gender\": 2, \"id\": 15853, \"name\": \"Wes Studi\", \"order\": 8}, {\"cast_id\": 10, \"character\": \"Tsu\\'Tey\", \"credit_id\": \"52fe48009251416c750ac9e9\", \"gender\": 2, \"id\": 10964, \"name\": \"Laz Alonso\", \"order\": 9}, {\"cast_id\": 12, \"character\": \"Dr. Max Patel\", \"credit_id\": \"52fe48009251416c750ac9f1\", \"gender\": 2, \"id\": 95697, \"name\": \"Dileep Rao\", \"order\": 10}, {\"cast_id\": 13, \"character\": \"Lyle Wainfleet\", \"credit_id\": \"52fe48009251416c750ac9f5\", \"gender\": 2, \"id\": 98215, \"name\": \"Matt Gerald\", \"order\": 11}, {\"cast_id\": 32, \"character\": \"Private Fike\", \"credit_id\": \"52fe48009251416c750aca5b\", \"gender\": 2, \"id\": 154153, \"name\": \"Sean Anthony Moran\", \"order\": 12}, {\"cast_id\": 33, \"character\": \"Cryo Vault Med Tech\", \"credit_id\": \"52fe48009251416c750aca5f\", \"gender\": 2, \"id\": 397312, \"name\": \"Jason Whyte\", \"order\": 13}, {\"cast_id\": 34, \"character\": \"Venture Star Crew Chief\", \"credit_id\": \"52fe48009251416c750aca63\", \"gender\": 2, \"id\": 42317, \"name\": \"Scott Lawrence\", \"order\": 14}, {\"cast_id\": 35, \"character\": \"Lock Up Trooper\", \"credit_id\": \"52fe48009251416c750aca67\", \"gender\": 2, \"id\": 986734, \"name\": \"Kelly Kilgour\", \"order\": 15}, {\"cast_id\": 36, \"character\": \"Shuttle Pilot\", \"credit_id\": \"52fe48009251416c750aca6b\", \"gender\": 0, \"id\": 1207227, \"name\": \"James Patrick Pitt\", \"order\": 16}, {\"cast_id\": 37, \"character\": \"Shuttle Co-Pilot\", \"credit_id\": \"52fe48009251416c750aca6f\", \"gender\": 0, \"id\": 1180936, \"name\": \"Sean Patrick Murphy\", \"order\": 17}, {\"cast_id\": 38, \"character\": \"Shuttle Crew Chief\", \"credit_id\": \"52fe48009251416c750aca73\", \"gender\": 2, \"id\": 1019578, \"name\": \"Peter Dillon\", \"order\": 18}, {\"cast_id\": 39, \"character\": \"Tractor Operator / Troupe\", \"credit_id\": \"52fe48009251416c750aca77\", \"gender\": 0, \"id\": 91443, \"name\": \"Kevin Dorman\", \"order\": 19}, {\"cast_id\": 40, \"character\": \"Dragon Gunship Pilot\", \"credit_id\": \"52fe48009251416c750aca7b\", \"gender\": 2, \"id\": 173391, \"name\": \"Kelson Henderson\", \"order\": 20}, {\"cast_id\": 41, \"character\": \"Dragon Gunship Gunner\", \"credit_id\": \"52fe48009251416c750aca7f\", \"gender\": 0, \"id\": 1207236, \"name\": \"David Van Horn\", \"order\": 21}, {\"cast_id\": 42, \"character\": \"Dragon Gunship Navigator\", \"credit_id\": \"52fe48009251416c750aca83\", \"gender\": 0, \"id\": 215913, \"name\": \"Jacob Tomuri\", \"order\": 22}, {\"cast_id\": 43, \"character\": \"Suit #1\", \"credit_id\": \"52fe48009251416c750aca87\", \"gender\": 0, \"id\": 143206, \"name\": \"Michael Blain-Rozgay\", \"order\": 23}, {\"cast_id\": 44, \"character\": \"Suit #2\", \"credit_id\": \"52fe48009251416c750aca8b\", \"gender\": 2, \"id\": 169676, \"name\": \"Jon Curry\", \"order\": 24}, {\"cast_id\": 46, \"character\": \"Ambient Room Tech\", \"credit_id\": \"52fe48009251416c750aca8f\", \"gender\": 0, \"id\": 1048610, \"name\": \"Luke Hawker\", \"order\": 25}, {\"cast_id\": 47, \"character\": \"Ambient Room Tech / Troupe\", \"credit_id\": \"52fe48009251416c750aca93\", \"gender\": 0, \"id\": 42288, \"name\": \"Woody Schultz\", \"order\": 26}, {\"cast_id\": 48, \"character\": \"Horse Clan Leader\", \"credit_id\": \"52fe48009251416c750aca97\", \"gender\": 2, \"id\": 68278, \"name\": \"Peter Mensah\", \"order\": 27}, {\"cast_id\": 49, \"character\": \"Link Room Tech\", \"credit_id\": \"52fe48009251416c750aca9b\", \"gender\": 0, \"id\": 1207247, \"name\": \"Sonia Yee\", \"order\": 28}, {\"cast_id\": 50, \"character\": \"Basketball Avatar / Troupe\", \"credit_id\": \"52fe48009251416c750aca9f\", \"gender\": 1, \"id\": 1207248, \"name\": \"Jahnel Curfman\", \"order\": 29}, {\"cast_id\": 51, \"character\": \"Basketball Avatar\", \"credit_id\": \"52fe48009251416c750acaa3\", \"gender\": 0, \"id\": 89714, \"name\": \"Ilram Choi\", \"order\": 30}, {\"cast_id\": 52, \"character\": \"Na\\'vi Child\", \"credit_id\": \"52fe48009251416c750acaa7\", \"gender\": 0, \"id\": 1207249, \"name\": \"Kyla Warren\", \"order\": 31}, {\"cast_id\": 53, \"character\": \"Troupe\", \"credit_id\": \"52fe48009251416c750acaab\", \"gender\": 0, \"id\": 1207250, \"name\": \"Lisa Roumain\", \"order\": 32}, {\"cast_id\": 54, \"character\": \"Troupe\", \"credit_id\": \"52fe48009251416c750acaaf\", \"gender\": 1, \"id\": 83105, \"name\": \"Debra Wilson\", \"order\": 33}, {\"cast_id\": 57, \"character\": \"Troupe\", \"credit_id\": \"52fe48009251416c750acabb\", \"gender\": 0, \"id\": 1207253, \"name\": \"Chris Mala\", \"order\": 34}, {\"cast_id\": 55, \"character\": \"Troupe\", \"credit_id\": \"52fe48009251416c750acab3\", \"gender\": 0, \"id\": 1207251, \"name\": \"Taylor Kibby\", \"order\": 35}, {\"cast_id\": 56, \"character\": \"Troupe\", \"credit_id\": \"52fe48009251416c750acab7\", \"gender\": 0, \"id\": 1207252, \"name\": \"Jodie Landau\", \"order\": 36}, {\"cast_id\": 58, \"character\": \"Troupe\", \"credit_id\": \"52fe48009251416c750acabf\", \"gender\": 0, \"id\": 1207254, \"name\": \"Julie Lamm\", \"order\": 37}, {\"cast_id\": 59, \"character\": \"Troupe\", \"credit_id\": \"52fe48009251416c750acac3\", \"gender\": 0, \"id\": 1207257, \"name\": \"Cullen B. Madden\", \"order\": 38}, {\"cast_id\": 60, \"character\": \"Troupe\", \"credit_id\": \"52fe48009251416c750acac7\", \"gender\": 0, \"id\": 1207259, \"name\": \"Joseph Brady Madden\", \"order\": 39}, {\"cast_id\": 61, \"character\": \"Troupe\", \"credit_id\": \"52fe48009251416c750acacb\", \"gender\": 0, \"id\": 1207262, \"name\": \"Frankie Torres\", \"order\": 40}, {\"cast_id\": 62, \"character\": \"Troupe\", \"credit_id\": \"52fe48009251416c750acacf\", \"gender\": 1, \"id\": 1158600, \"name\": \"Austin Wilson\", \"order\": 41}, {\"cast_id\": 63, \"character\": \"Troupe\", \"credit_id\": \"52fe48019251416c750acad3\", \"gender\": 1, \"id\": 983705, \"name\": \"Sara Wilson\", \"order\": 42}, {\"cast_id\": 64, \"character\": \"Troupe\", \"credit_id\": \"52fe48019251416c750acad7\", \"gender\": 0, \"id\": 1207263, \"name\": \"Tamica Washington-Miller\", \"order\": 43}, {\"cast_id\": 65, \"character\": \"Op Center Staff\", \"credit_id\": \"52fe48019251416c750acadb\", \"gender\": 1, \"id\": 1145098, \"name\": \"Lucy Briant\", \"order\": 44}, {\"cast_id\": 66, \"character\": \"Op Center Staff\", \"credit_id\": \"52fe48019251416c750acadf\", \"gender\": 2, \"id\": 33305, \"name\": \"Nathan Meister\", \"order\": 45}, {\"cast_id\": 67, \"character\": \"Op Center Staff\", \"credit_id\": \"52fe48019251416c750acae3\", \"gender\": 0, \"id\": 1207264, \"name\": \"Gerry Blair\", \"order\": 46}, {\"cast_id\": 68, \"character\": \"Op Center Staff\", \"credit_id\": \"52fe48019251416c750acae7\", \"gender\": 2, \"id\": 33311, \"name\": \"Matthew Chamberlain\", \"order\": 47}, {\"cast_id\": 69, \"character\": \"Op Center Staff\", \"credit_id\": \"52fe48019251416c750acaeb\", \"gender\": 0, \"id\": 1207265, \"name\": \"Paul Yates\", \"order\": 48}, {\"cast_id\": 70, \"character\": \"Op Center Duty Officer\", \"credit_id\": \"52fe48019251416c750acaef\", \"gender\": 0, \"id\": 1207266, \"name\": \"Wray Wilson\", \"order\": 49}, {\"cast_id\": 71, \"character\": \"Op Center Staff\", \"credit_id\": \"52fe48019251416c750acaf3\", \"gender\": 2, \"id\": 54492, \"name\": \"James Gaylyn\", \"order\": 50}, {\"cast_id\": 72, \"character\": \"Dancer\", \"credit_id\": \"52fe48019251416c750acaf7\", \"gender\": 0, \"id\": 1207267, \"name\": \"Melvin Leno Clark III\", \"order\": 51}, {\"cast_id\": 73, \"character\": \"Dancer\", \"credit_id\": \"52fe48019251416c750acafb\", \"gender\": 0, \"id\": 1207268, \"name\": \"Carvon Futrell\", \"order\": 52}, {\"cast_id\": 74, \"character\": \"Dancer\", \"credit_id\": \"52fe48019251416c750acaff\", \"gender\": 0, \"id\": 1207269, \"name\": \"Brandon Jelkes\", \"order\": 53}, {\"cast_id\": 75, \"character\": \"Dancer\", \"credit_id\": \"52fe48019251416c750acb03\", \"gender\": 0, \"id\": 1207270, \"name\": \"Micah Moch\", \"order\": 54}, {\"cast_id\": 76, \"character\": \"Dancer\", \"credit_id\": \"52fe48019251416c750acb07\", \"gender\": 0, \"id\": 1207271, \"name\": \"Hanniyah Muhammad\", \"order\": 55}, {\"cast_id\": 77, \"character\": \"Dancer\", \"credit_id\": \"52fe48019251416c750acb0b\", \"gender\": 0, \"id\": 1207272, \"name\": \"Christopher Nolen\", \"order\": 56}, {\"cast_id\": 78, \"character\": \"Dancer\", \"credit_id\": \"52fe48019251416c750acb0f\", \"gender\": 0, \"id\": 1207273, \"name\": \"Christa Oliver\", \"order\": 57}, {\"cast_id\": 79, \"character\": \"Dancer\", \"credit_id\": \"52fe48019251416c750acb13\", \"gender\": 0, \"id\": 1207274, \"name\": \"April Marie Thomas\", \"order\": 58}, {\"cast_id\": 80, \"character\": \"Dancer\", \"credit_id\": \"52fe48019251416c750acb17\", \"gender\": 0, \"id\": 1207275, \"name\": \"Bravita A. Threatt\", \"order\": 59}, {\"cast_id\": 81, \"character\": \"Mining Chief (uncredited)\", \"credit_id\": \"52fe48019251416c750acb1b\", \"gender\": 0, \"id\": 1207276, \"name\": \"Colin Bleasdale\", \"order\": 60}, {\"cast_id\": 82, \"character\": \"Veteran Miner (uncredited)\", \"credit_id\": \"52fe48019251416c750acb1f\", \"gender\": 0, \"id\": 107969, \"name\": \"Mike Bodnar\", \"order\": 61}, {\"cast_id\": 83, \"character\": \"Richard (uncredited)\", \"credit_id\": \"52fe48019251416c750acb23\", \"gender\": 0, \"id\": 1207278, \"name\": \"Matt Clayton\", \"order\": 62}, {\"cast_id\": 84, \"character\": \"Nav\\'i (uncredited)\", \"credit_id\": \"52fe48019251416c750acb27\", \"gender\": 1, \"id\": 147898, \"name\": \"Nicole Dionne\", \"order\": 63}, {\"cast_id\": 85, \"character\": \"Trooper (uncredited)\", \"credit_id\": \"52fe48019251416c750acb2b\", \"gender\": 0, \"id\": 1207280, \"name\": \"Jamie Harrison\", \"order\": 64}, {\"cast_id\": 86, \"character\": \"Trooper (uncredited)\", \"credit_id\": \"52fe48019251416c750acb2f\", \"gender\": 0, \"id\": 1207281, \"name\": \"Allan Henry\", \"order\": 65}, {\"cast_id\": 87, \"character\": \"Ground Technician (uncredited)\", \"credit_id\": \"52fe48019251416c750acb33\", \"gender\": 2, \"id\": 1207282, \"name\": \"Anthony Ingruber\", \"order\": 66}, {\"cast_id\": 88, \"character\": \"Flight Crew Mechanic (uncredited)\", \"credit_id\": \"52fe48019251416c750acb37\", \"gender\": 0, \"id\": 1207283, \"name\": \"Ashley Jeffery\", \"order\": 67}, {\"cast_id\": 14, \"character\": \"Samson Pilot\", \"credit_id\": \"52fe48009251416c750ac9f9\", \"gender\": 0, \"id\": 98216, \"name\": \"Dean Knowsley\", \"order\": 68}, {\"cast_id\": 89, \"character\": \"Trooper (uncredited)\", \"credit_id\": \"52fe48019251416c750acb3b\", \"gender\": 0, \"id\": 1201399, \"name\": \"Joseph Mika-Hunt\", \"order\": 69}, {\"cast_id\": 90, \"character\": \"Banshee (uncredited)\", \"credit_id\": \"52fe48019251416c750acb3f\", \"gender\": 0, \"id\": 236696, \"name\": \"Terry Notary\", \"order\": 70}, {\"cast_id\": 91, \"character\": \"Soldier (uncredited)\", \"credit_id\": \"52fe48019251416c750acb43\", \"gender\": 0, \"id\": 1207287, \"name\": \"Kai Pantano\", \"order\": 71}, {\"cast_id\": 92, \"character\": \"Blast Technician (uncredited)\", \"credit_id\": \"52fe48019251416c750acb47\", \"gender\": 0, \"id\": 1207288, \"name\": \"Logan Pithyou\", \"order\": 72}, {\"cast_id\": 93, \"character\": \"Vindum Raah (uncredited)\", \"credit_id\": \"52fe48019251416c750acb4b\", \"gender\": 0, \"id\": 1207289, \"name\": \"Stuart Pollock\", \"order\": 73}, {\"cast_id\": 94, \"character\": \"Hero (uncredited)\", \"credit_id\": \"52fe48019251416c750acb4f\", \"gender\": 0, \"id\": 584868, \"name\": \"Raja\", \"order\": 74}, {\"cast_id\": 95, \"character\": \"Ops Centreworker (uncredited)\", \"credit_id\": \"52fe48019251416c750acb53\", \"gender\": 0, \"id\": 1207290, \"name\": \"Gareth Ruck\", \"order\": 75}, {\"cast_id\": 96, \"character\": \"Engineer (uncredited)\", \"credit_id\": \"52fe48019251416c750acb57\", \"gender\": 0, \"id\": 1062463, \"name\": \"Rhian Sheehan\", \"order\": 76}, {\"cast_id\": 97, \"character\": \"Col. Quaritch\\'s Mech Suit (uncredited)\", \"credit_id\": \"52fe48019251416c750acb5b\", \"gender\": 0, \"id\": 60656, \"name\": \"T. J. Storm\", \"order\": 77}, {\"cast_id\": 98, \"character\": \"Female Marine (uncredited)\", \"credit_id\": \"52fe48019251416c750acb5f\", \"gender\": 0, \"id\": 1207291, \"name\": \"Jodie Taylor\", \"order\": 78}, {\"cast_id\": 99, \"character\": \"Ikran Clan Leader (uncredited)\", \"credit_id\": \"52fe48019251416c750acb63\", \"gender\": 1, \"id\": 1186027, \"name\": \"Alicia Vela-Bailey\", \"order\": 79}, {\"cast_id\": 100, \"character\": \"Geologist (uncredited)\", \"credit_id\": \"52fe48019251416c750acb67\", \"gender\": 0, \"id\": 1207292, \"name\": \"Richard Whiteside\", \"order\": 80}, {\"cast_id\": 101, \"character\": \"Na\\'vi (uncredited)\", \"credit_id\": \"52fe48019251416c750acb6b\", \"gender\": 0, \"id\": 103259, \"name\": \"Nikie Zambo\", \"order\": 81}, {\"cast_id\": 102, \"character\": \"Ambient Room Tech / Troupe\", \"credit_id\": \"52fe48019251416c750acb6f\", \"gender\": 1, \"id\": 42286, \"name\": \"Julene Renee\", \"order\": 82}]'],\n",
       "      dtype=object)"
      ]
     },
     "execution_count": 4,
     "metadata": {},
     "output_type": "execute_result"
    }
   ],
   "source": [
    "credit.head(1)['cast'].values"
   ]
  },
  {
   "cell_type": "code",
   "execution_count": 5,
   "id": "8c7ef507-a209-450e-85b8-6e4c0cba7705",
   "metadata": {
    "ExecuteTime": {
     "end_time": "2025-01-23T05:24:30.580556Z",
     "start_time": "2025-01-23T05:24:30.566853Z"
    }
   },
   "outputs": [],
   "source": [
    "movies=movies.merge(credit,on='title')"
   ]
  },
  {
   "cell_type": "code",
   "execution_count": 6,
   "id": "eab1590f-f94c-42af-8725-2ea2648c2bbc",
   "metadata": {
    "ExecuteTime": {
     "end_time": "2025-01-23T05:24:30.639827Z",
     "start_time": "2025-01-23T05:24:30.619854Z"
    }
   },
   "outputs": [
    {
     "data": {
      "text/html": [
       "<div>\n",
       "<style scoped>\n",
       "    .dataframe tbody tr th:only-of-type {\n",
       "        vertical-align: middle;\n",
       "    }\n",
       "\n",
       "    .dataframe tbody tr th {\n",
       "        vertical-align: top;\n",
       "    }\n",
       "\n",
       "    .dataframe thead th {\n",
       "        text-align: right;\n",
       "    }\n",
       "</style>\n",
       "<table border=\"1\" class=\"dataframe\">\n",
       "  <thead>\n",
       "    <tr style=\"text-align: right;\">\n",
       "      <th></th>\n",
       "      <th>budget</th>\n",
       "      <th>genres</th>\n",
       "      <th>homepage</th>\n",
       "      <th>id</th>\n",
       "      <th>keywords</th>\n",
       "      <th>original_language</th>\n",
       "      <th>original_title</th>\n",
       "      <th>overview</th>\n",
       "      <th>popularity</th>\n",
       "      <th>production_companies</th>\n",
       "      <th>...</th>\n",
       "      <th>runtime</th>\n",
       "      <th>spoken_languages</th>\n",
       "      <th>status</th>\n",
       "      <th>tagline</th>\n",
       "      <th>title</th>\n",
       "      <th>vote_average</th>\n",
       "      <th>vote_count</th>\n",
       "      <th>movie_id</th>\n",
       "      <th>cast</th>\n",
       "      <th>crew</th>\n",
       "    </tr>\n",
       "  </thead>\n",
       "  <tbody>\n",
       "    <tr>\n",
       "      <th>0</th>\n",
       "      <td>237000000</td>\n",
       "      <td>[{\"id\": 28, \"name\": \"Action\"}, {\"id\": 12, \"nam...</td>\n",
       "      <td>http://www.avatarmovie.com/</td>\n",
       "      <td>19995</td>\n",
       "      <td>[{\"id\": 1463, \"name\": \"culture clash\"}, {\"id\":...</td>\n",
       "      <td>en</td>\n",
       "      <td>Avatar</td>\n",
       "      <td>In the 22nd century, a paraplegic Marine is di...</td>\n",
       "      <td>150.437577</td>\n",
       "      <td>[{\"name\": \"Ingenious Film Partners\", \"id\": 289...</td>\n",
       "      <td>...</td>\n",
       "      <td>162.0</td>\n",
       "      <td>[{\"iso_639_1\": \"en\", \"name\": \"English\"}, {\"iso...</td>\n",
       "      <td>Released</td>\n",
       "      <td>Enter the World of Pandora.</td>\n",
       "      <td>Avatar</td>\n",
       "      <td>7.2</td>\n",
       "      <td>11800</td>\n",
       "      <td>19995</td>\n",
       "      <td>[{\"cast_id\": 242, \"character\": \"Jake Sully\", \"...</td>\n",
       "      <td>[{\"credit_id\": \"52fe48009251416c750aca23\", \"de...</td>\n",
       "    </tr>\n",
       "    <tr>\n",
       "      <th>1</th>\n",
       "      <td>300000000</td>\n",
       "      <td>[{\"id\": 12, \"name\": \"Adventure\"}, {\"id\": 14, \"...</td>\n",
       "      <td>http://disney.go.com/disneypictures/pirates/</td>\n",
       "      <td>285</td>\n",
       "      <td>[{\"id\": 270, \"name\": \"ocean\"}, {\"id\": 726, \"na...</td>\n",
       "      <td>en</td>\n",
       "      <td>Pirates of the Caribbean: At World's End</td>\n",
       "      <td>Captain Barbossa, long believed to be dead, ha...</td>\n",
       "      <td>139.082615</td>\n",
       "      <td>[{\"name\": \"Walt Disney Pictures\", \"id\": 2}, {\"...</td>\n",
       "      <td>...</td>\n",
       "      <td>169.0</td>\n",
       "      <td>[{\"iso_639_1\": \"en\", \"name\": \"English\"}]</td>\n",
       "      <td>Released</td>\n",
       "      <td>At the end of the world, the adventure begins.</td>\n",
       "      <td>Pirates of the Caribbean: At World's End</td>\n",
       "      <td>6.9</td>\n",
       "      <td>4500</td>\n",
       "      <td>285</td>\n",
       "      <td>[{\"cast_id\": 4, \"character\": \"Captain Jack Spa...</td>\n",
       "      <td>[{\"credit_id\": \"52fe4232c3a36847f800b579\", \"de...</td>\n",
       "    </tr>\n",
       "    <tr>\n",
       "      <th>2</th>\n",
       "      <td>245000000</td>\n",
       "      <td>[{\"id\": 28, \"name\": \"Action\"}, {\"id\": 12, \"nam...</td>\n",
       "      <td>http://www.sonypictures.com/movies/spectre/</td>\n",
       "      <td>206647</td>\n",
       "      <td>[{\"id\": 470, \"name\": \"spy\"}, {\"id\": 818, \"name...</td>\n",
       "      <td>en</td>\n",
       "      <td>Spectre</td>\n",
       "      <td>A cryptic message from Bond’s past sends him o...</td>\n",
       "      <td>107.376788</td>\n",
       "      <td>[{\"name\": \"Columbia Pictures\", \"id\": 5}, {\"nam...</td>\n",
       "      <td>...</td>\n",
       "      <td>148.0</td>\n",
       "      <td>[{\"iso_639_1\": \"fr\", \"name\": \"Fran\\u00e7ais\"},...</td>\n",
       "      <td>Released</td>\n",
       "      <td>A Plan No One Escapes</td>\n",
       "      <td>Spectre</td>\n",
       "      <td>6.3</td>\n",
       "      <td>4466</td>\n",
       "      <td>206647</td>\n",
       "      <td>[{\"cast_id\": 1, \"character\": \"James Bond\", \"cr...</td>\n",
       "      <td>[{\"credit_id\": \"54805967c3a36829b5002c41\", \"de...</td>\n",
       "    </tr>\n",
       "    <tr>\n",
       "      <th>3</th>\n",
       "      <td>250000000</td>\n",
       "      <td>[{\"id\": 28, \"name\": \"Action\"}, {\"id\": 80, \"nam...</td>\n",
       "      <td>http://www.thedarkknightrises.com/</td>\n",
       "      <td>49026</td>\n",
       "      <td>[{\"id\": 849, \"name\": \"dc comics\"}, {\"id\": 853,...</td>\n",
       "      <td>en</td>\n",
       "      <td>The Dark Knight Rises</td>\n",
       "      <td>Following the death of District Attorney Harve...</td>\n",
       "      <td>112.312950</td>\n",
       "      <td>[{\"name\": \"Legendary Pictures\", \"id\": 923}, {\"...</td>\n",
       "      <td>...</td>\n",
       "      <td>165.0</td>\n",
       "      <td>[{\"iso_639_1\": \"en\", \"name\": \"English\"}]</td>\n",
       "      <td>Released</td>\n",
       "      <td>The Legend Ends</td>\n",
       "      <td>The Dark Knight Rises</td>\n",
       "      <td>7.6</td>\n",
       "      <td>9106</td>\n",
       "      <td>49026</td>\n",
       "      <td>[{\"cast_id\": 2, \"character\": \"Bruce Wayne / Ba...</td>\n",
       "      <td>[{\"credit_id\": \"52fe4781c3a36847f81398c3\", \"de...</td>\n",
       "    </tr>\n",
       "    <tr>\n",
       "      <th>4</th>\n",
       "      <td>260000000</td>\n",
       "      <td>[{\"id\": 28, \"name\": \"Action\"}, {\"id\": 12, \"nam...</td>\n",
       "      <td>http://movies.disney.com/john-carter</td>\n",
       "      <td>49529</td>\n",
       "      <td>[{\"id\": 818, \"name\": \"based on novel\"}, {\"id\":...</td>\n",
       "      <td>en</td>\n",
       "      <td>John Carter</td>\n",
       "      <td>John Carter is a war-weary, former military ca...</td>\n",
       "      <td>43.926995</td>\n",
       "      <td>[{\"name\": \"Walt Disney Pictures\", \"id\": 2}]</td>\n",
       "      <td>...</td>\n",
       "      <td>132.0</td>\n",
       "      <td>[{\"iso_639_1\": \"en\", \"name\": \"English\"}]</td>\n",
       "      <td>Released</td>\n",
       "      <td>Lost in our world, found in another.</td>\n",
       "      <td>John Carter</td>\n",
       "      <td>6.1</td>\n",
       "      <td>2124</td>\n",
       "      <td>49529</td>\n",
       "      <td>[{\"cast_id\": 5, \"character\": \"John Carter\", \"c...</td>\n",
       "      <td>[{\"credit_id\": \"52fe479ac3a36847f813eaa3\", \"de...</td>\n",
       "    </tr>\n",
       "  </tbody>\n",
       "</table>\n",
       "<p>5 rows × 23 columns</p>\n",
       "</div>"
      ],
      "text/plain": [
       "      budget                                             genres  \\\n",
       "0  237000000  [{\"id\": 28, \"name\": \"Action\"}, {\"id\": 12, \"nam...   \n",
       "1  300000000  [{\"id\": 12, \"name\": \"Adventure\"}, {\"id\": 14, \"...   \n",
       "2  245000000  [{\"id\": 28, \"name\": \"Action\"}, {\"id\": 12, \"nam...   \n",
       "3  250000000  [{\"id\": 28, \"name\": \"Action\"}, {\"id\": 80, \"nam...   \n",
       "4  260000000  [{\"id\": 28, \"name\": \"Action\"}, {\"id\": 12, \"nam...   \n",
       "\n",
       "                                       homepage      id  \\\n",
       "0                   http://www.avatarmovie.com/   19995   \n",
       "1  http://disney.go.com/disneypictures/pirates/     285   \n",
       "2   http://www.sonypictures.com/movies/spectre/  206647   \n",
       "3            http://www.thedarkknightrises.com/   49026   \n",
       "4          http://movies.disney.com/john-carter   49529   \n",
       "\n",
       "                                            keywords original_language  \\\n",
       "0  [{\"id\": 1463, \"name\": \"culture clash\"}, {\"id\":...                en   \n",
       "1  [{\"id\": 270, \"name\": \"ocean\"}, {\"id\": 726, \"na...                en   \n",
       "2  [{\"id\": 470, \"name\": \"spy\"}, {\"id\": 818, \"name...                en   \n",
       "3  [{\"id\": 849, \"name\": \"dc comics\"}, {\"id\": 853,...                en   \n",
       "4  [{\"id\": 818, \"name\": \"based on novel\"}, {\"id\":...                en   \n",
       "\n",
       "                             original_title  \\\n",
       "0                                    Avatar   \n",
       "1  Pirates of the Caribbean: At World's End   \n",
       "2                                   Spectre   \n",
       "3                     The Dark Knight Rises   \n",
       "4                               John Carter   \n",
       "\n",
       "                                            overview  popularity  \\\n",
       "0  In the 22nd century, a paraplegic Marine is di...  150.437577   \n",
       "1  Captain Barbossa, long believed to be dead, ha...  139.082615   \n",
       "2  A cryptic message from Bond’s past sends him o...  107.376788   \n",
       "3  Following the death of District Attorney Harve...  112.312950   \n",
       "4  John Carter is a war-weary, former military ca...   43.926995   \n",
       "\n",
       "                                production_companies  ... runtime  \\\n",
       "0  [{\"name\": \"Ingenious Film Partners\", \"id\": 289...  ...   162.0   \n",
       "1  [{\"name\": \"Walt Disney Pictures\", \"id\": 2}, {\"...  ...   169.0   \n",
       "2  [{\"name\": \"Columbia Pictures\", \"id\": 5}, {\"nam...  ...   148.0   \n",
       "3  [{\"name\": \"Legendary Pictures\", \"id\": 923}, {\"...  ...   165.0   \n",
       "4        [{\"name\": \"Walt Disney Pictures\", \"id\": 2}]  ...   132.0   \n",
       "\n",
       "                                    spoken_languages    status  \\\n",
       "0  [{\"iso_639_1\": \"en\", \"name\": \"English\"}, {\"iso...  Released   \n",
       "1           [{\"iso_639_1\": \"en\", \"name\": \"English\"}]  Released   \n",
       "2  [{\"iso_639_1\": \"fr\", \"name\": \"Fran\\u00e7ais\"},...  Released   \n",
       "3           [{\"iso_639_1\": \"en\", \"name\": \"English\"}]  Released   \n",
       "4           [{\"iso_639_1\": \"en\", \"name\": \"English\"}]  Released   \n",
       "\n",
       "                                          tagline  \\\n",
       "0                     Enter the World of Pandora.   \n",
       "1  At the end of the world, the adventure begins.   \n",
       "2                           A Plan No One Escapes   \n",
       "3                                 The Legend Ends   \n",
       "4            Lost in our world, found in another.   \n",
       "\n",
       "                                      title vote_average vote_count movie_id  \\\n",
       "0                                    Avatar          7.2      11800    19995   \n",
       "1  Pirates of the Caribbean: At World's End          6.9       4500      285   \n",
       "2                                   Spectre          6.3       4466   206647   \n",
       "3                     The Dark Knight Rises          7.6       9106    49026   \n",
       "4                               John Carter          6.1       2124    49529   \n",
       "\n",
       "                                                cast  \\\n",
       "0  [{\"cast_id\": 242, \"character\": \"Jake Sully\", \"...   \n",
       "1  [{\"cast_id\": 4, \"character\": \"Captain Jack Spa...   \n",
       "2  [{\"cast_id\": 1, \"character\": \"James Bond\", \"cr...   \n",
       "3  [{\"cast_id\": 2, \"character\": \"Bruce Wayne / Ba...   \n",
       "4  [{\"cast_id\": 5, \"character\": \"John Carter\", \"c...   \n",
       "\n",
       "                                                crew  \n",
       "0  [{\"credit_id\": \"52fe48009251416c750aca23\", \"de...  \n",
       "1  [{\"credit_id\": \"52fe4232c3a36847f800b579\", \"de...  \n",
       "2  [{\"credit_id\": \"54805967c3a36829b5002c41\", \"de...  \n",
       "3  [{\"credit_id\": \"52fe4781c3a36847f81398c3\", \"de...  \n",
       "4  [{\"credit_id\": \"52fe479ac3a36847f813eaa3\", \"de...  \n",
       "\n",
       "[5 rows x 23 columns]"
      ]
     },
     "execution_count": 6,
     "metadata": {},
     "output_type": "execute_result"
    }
   ],
   "source": [
    "movies.head()"
   ]
  },
  {
   "cell_type": "code",
   "execution_count": 7,
   "id": "a16d5f56-0325-4153-8474-64dee90891e3",
   "metadata": {
    "ExecuteTime": {
     "end_time": "2025-01-23T05:24:30.698599Z",
     "start_time": "2025-01-23T05:24:30.693201Z"
    }
   },
   "outputs": [],
   "source": [
    "movies=movies[['movie_id','overview','title','cast','keywords','genres','crew']]"
   ]
  },
  {
   "cell_type": "code",
   "execution_count": 8,
   "id": "ec76e36d-8d8f-4d36-a50d-9de6c5d49b99",
   "metadata": {
    "ExecuteTime": {
     "end_time": "2025-01-23T05:24:30.777257Z",
     "start_time": "2025-01-23T05:24:30.765635Z"
    },
    "scrolled": true
   },
   "outputs": [
    {
     "data": {
      "text/html": [
       "<div>\n",
       "<style scoped>\n",
       "    .dataframe tbody tr th:only-of-type {\n",
       "        vertical-align: middle;\n",
       "    }\n",
       "\n",
       "    .dataframe tbody tr th {\n",
       "        vertical-align: top;\n",
       "    }\n",
       "\n",
       "    .dataframe thead th {\n",
       "        text-align: right;\n",
       "    }\n",
       "</style>\n",
       "<table border=\"1\" class=\"dataframe\">\n",
       "  <thead>\n",
       "    <tr style=\"text-align: right;\">\n",
       "      <th></th>\n",
       "      <th>movie_id</th>\n",
       "      <th>overview</th>\n",
       "      <th>title</th>\n",
       "      <th>cast</th>\n",
       "      <th>keywords</th>\n",
       "      <th>genres</th>\n",
       "      <th>crew</th>\n",
       "    </tr>\n",
       "  </thead>\n",
       "  <tbody>\n",
       "    <tr>\n",
       "      <th>0</th>\n",
       "      <td>19995</td>\n",
       "      <td>In the 22nd century, a paraplegic Marine is di...</td>\n",
       "      <td>Avatar</td>\n",
       "      <td>[{\"cast_id\": 242, \"character\": \"Jake Sully\", \"...</td>\n",
       "      <td>[{\"id\": 1463, \"name\": \"culture clash\"}, {\"id\":...</td>\n",
       "      <td>[{\"id\": 28, \"name\": \"Action\"}, {\"id\": 12, \"nam...</td>\n",
       "      <td>[{\"credit_id\": \"52fe48009251416c750aca23\", \"de...</td>\n",
       "    </tr>\n",
       "    <tr>\n",
       "      <th>1</th>\n",
       "      <td>285</td>\n",
       "      <td>Captain Barbossa, long believed to be dead, ha...</td>\n",
       "      <td>Pirates of the Caribbean: At World's End</td>\n",
       "      <td>[{\"cast_id\": 4, \"character\": \"Captain Jack Spa...</td>\n",
       "      <td>[{\"id\": 270, \"name\": \"ocean\"}, {\"id\": 726, \"na...</td>\n",
       "      <td>[{\"id\": 12, \"name\": \"Adventure\"}, {\"id\": 14, \"...</td>\n",
       "      <td>[{\"credit_id\": \"52fe4232c3a36847f800b579\", \"de...</td>\n",
       "    </tr>\n",
       "    <tr>\n",
       "      <th>2</th>\n",
       "      <td>206647</td>\n",
       "      <td>A cryptic message from Bond’s past sends him o...</td>\n",
       "      <td>Spectre</td>\n",
       "      <td>[{\"cast_id\": 1, \"character\": \"James Bond\", \"cr...</td>\n",
       "      <td>[{\"id\": 470, \"name\": \"spy\"}, {\"id\": 818, \"name...</td>\n",
       "      <td>[{\"id\": 28, \"name\": \"Action\"}, {\"id\": 12, \"nam...</td>\n",
       "      <td>[{\"credit_id\": \"54805967c3a36829b5002c41\", \"de...</td>\n",
       "    </tr>\n",
       "    <tr>\n",
       "      <th>3</th>\n",
       "      <td>49026</td>\n",
       "      <td>Following the death of District Attorney Harve...</td>\n",
       "      <td>The Dark Knight Rises</td>\n",
       "      <td>[{\"cast_id\": 2, \"character\": \"Bruce Wayne / Ba...</td>\n",
       "      <td>[{\"id\": 849, \"name\": \"dc comics\"}, {\"id\": 853,...</td>\n",
       "      <td>[{\"id\": 28, \"name\": \"Action\"}, {\"id\": 80, \"nam...</td>\n",
       "      <td>[{\"credit_id\": \"52fe4781c3a36847f81398c3\", \"de...</td>\n",
       "    </tr>\n",
       "    <tr>\n",
       "      <th>4</th>\n",
       "      <td>49529</td>\n",
       "      <td>John Carter is a war-weary, former military ca...</td>\n",
       "      <td>John Carter</td>\n",
       "      <td>[{\"cast_id\": 5, \"character\": \"John Carter\", \"c...</td>\n",
       "      <td>[{\"id\": 818, \"name\": \"based on novel\"}, {\"id\":...</td>\n",
       "      <td>[{\"id\": 28, \"name\": \"Action\"}, {\"id\": 12, \"nam...</td>\n",
       "      <td>[{\"credit_id\": \"52fe479ac3a36847f813eaa3\", \"de...</td>\n",
       "    </tr>\n",
       "  </tbody>\n",
       "</table>\n",
       "</div>"
      ],
      "text/plain": [
       "   movie_id                                           overview  \\\n",
       "0     19995  In the 22nd century, a paraplegic Marine is di...   \n",
       "1       285  Captain Barbossa, long believed to be dead, ha...   \n",
       "2    206647  A cryptic message from Bond’s past sends him o...   \n",
       "3     49026  Following the death of District Attorney Harve...   \n",
       "4     49529  John Carter is a war-weary, former military ca...   \n",
       "\n",
       "                                      title  \\\n",
       "0                                    Avatar   \n",
       "1  Pirates of the Caribbean: At World's End   \n",
       "2                                   Spectre   \n",
       "3                     The Dark Knight Rises   \n",
       "4                               John Carter   \n",
       "\n",
       "                                                cast  \\\n",
       "0  [{\"cast_id\": 242, \"character\": \"Jake Sully\", \"...   \n",
       "1  [{\"cast_id\": 4, \"character\": \"Captain Jack Spa...   \n",
       "2  [{\"cast_id\": 1, \"character\": \"James Bond\", \"cr...   \n",
       "3  [{\"cast_id\": 2, \"character\": \"Bruce Wayne / Ba...   \n",
       "4  [{\"cast_id\": 5, \"character\": \"John Carter\", \"c...   \n",
       "\n",
       "                                            keywords  \\\n",
       "0  [{\"id\": 1463, \"name\": \"culture clash\"}, {\"id\":...   \n",
       "1  [{\"id\": 270, \"name\": \"ocean\"}, {\"id\": 726, \"na...   \n",
       "2  [{\"id\": 470, \"name\": \"spy\"}, {\"id\": 818, \"name...   \n",
       "3  [{\"id\": 849, \"name\": \"dc comics\"}, {\"id\": 853,...   \n",
       "4  [{\"id\": 818, \"name\": \"based on novel\"}, {\"id\":...   \n",
       "\n",
       "                                              genres  \\\n",
       "0  [{\"id\": 28, \"name\": \"Action\"}, {\"id\": 12, \"nam...   \n",
       "1  [{\"id\": 12, \"name\": \"Adventure\"}, {\"id\": 14, \"...   \n",
       "2  [{\"id\": 28, \"name\": \"Action\"}, {\"id\": 12, \"nam...   \n",
       "3  [{\"id\": 28, \"name\": \"Action\"}, {\"id\": 80, \"nam...   \n",
       "4  [{\"id\": 28, \"name\": \"Action\"}, {\"id\": 12, \"nam...   \n",
       "\n",
       "                                                crew  \n",
       "0  [{\"credit_id\": \"52fe48009251416c750aca23\", \"de...  \n",
       "1  [{\"credit_id\": \"52fe4232c3a36847f800b579\", \"de...  \n",
       "2  [{\"credit_id\": \"54805967c3a36829b5002c41\", \"de...  \n",
       "3  [{\"credit_id\": \"52fe4781c3a36847f81398c3\", \"de...  \n",
       "4  [{\"credit_id\": \"52fe479ac3a36847f813eaa3\", \"de...  "
      ]
     },
     "execution_count": 8,
     "metadata": {},
     "output_type": "execute_result"
    }
   ],
   "source": [
    "movies.head()"
   ]
  },
  {
   "cell_type": "code",
   "execution_count": 9,
   "id": "32347517-d595-4c46-807a-3a0f0cefd049",
   "metadata": {
    "ExecuteTime": {
     "end_time": "2025-01-23T05:24:30.848993Z",
     "start_time": "2025-01-23T05:24:30.841621Z"
    }
   },
   "outputs": [
    {
     "data": {
      "text/plain": [
       "movie_id    0\n",
       "overview    3\n",
       "title       0\n",
       "cast        0\n",
       "keywords    0\n",
       "genres      0\n",
       "crew        0\n",
       "dtype: int64"
      ]
     },
     "execution_count": 9,
     "metadata": {},
     "output_type": "execute_result"
    }
   ],
   "source": [
    "movies.isnull().sum()"
   ]
  },
  {
   "cell_type": "code",
   "execution_count": 10,
   "id": "9b50c890-4c80-42a4-b683-ebd7aa88ff71",
   "metadata": {
    "ExecuteTime": {
     "end_time": "2025-01-23T05:24:31.046609Z",
     "start_time": "2025-01-23T05:24:31.039568Z"
    }
   },
   "outputs": [],
   "source": [
    "movies.dropna(inplace=True)"
   ]
  },
  {
   "cell_type": "code",
   "execution_count": 11,
   "id": "b50e13f2-4de1-448c-9186-d43eccffcabd",
   "metadata": {
    "ExecuteTime": {
     "end_time": "2025-01-23T05:24:31.310300Z",
     "start_time": "2025-01-23T05:24:31.216683Z"
    }
   },
   "outputs": [
    {
     "data": {
      "text/plain": [
       "np.int64(0)"
      ]
     },
     "execution_count": 11,
     "metadata": {},
     "output_type": "execute_result"
    }
   ],
   "source": [
    "movies.duplicated().sum()"
   ]
  },
  {
   "cell_type": "code",
   "execution_count": 12,
   "id": "ba71b74b-c6b1-4e06-9200-3bda081a4dad",
   "metadata": {
    "ExecuteTime": {
     "end_time": "2025-01-23T05:24:31.377565Z",
     "start_time": "2025-01-23T05:24:31.372340Z"
    }
   },
   "outputs": [
    {
     "data": {
      "text/plain": [
       "'[{\"id\": 28, \"name\": \"Action\"}, {\"id\": 12, \"name\": \"Adventure\"}, {\"id\": 14, \"name\": \"Fantasy\"}, {\"id\": 878, \"name\": \"Science Fiction\"}]'"
      ]
     },
     "execution_count": 12,
     "metadata": {},
     "output_type": "execute_result"
    }
   ],
   "source": [
    "movies.iloc[0].genres"
   ]
  },
  {
   "cell_type": "code",
   "execution_count": 13,
   "id": "4dbdba3c-0675-479e-a365-05b008884201",
   "metadata": {
    "ExecuteTime": {
     "end_time": "2025-01-23T05:24:31.440476Z",
     "start_time": "2025-01-23T05:24:31.437215Z"
    }
   },
   "outputs": [],
   "source": [
    "def convert(obj):\n",
    "    L=[]\n",
    "    for i in ast.literal_eval(obj):\n",
    "        L.append(i['name'])\n",
    "    return L"
   ]
  },
  {
   "cell_type": "code",
   "execution_count": 14,
   "id": "ad69f9fa-c87e-4092-a79a-665ddec088a8",
   "metadata": {
    "ExecuteTime": {
     "end_time": "2025-01-23T05:24:31.506329Z",
     "start_time": "2025-01-23T05:24:31.502482Z"
    }
   },
   "outputs": [
    {
     "name": "stdout",
     "output_type": "stream",
     "text": [
      "[{'id': 28, 'name': 'Action'}, {'id': 12, 'name': 'Adventure'}, {'id': 14, 'name': 'Fantasy'}, {'id': 878, 'name': 'Science Fiction'}]\n"
     ]
    }
   ],
   "source": [
    "import ast\n",
    "data = '[{\"id\": 28, \"name\": \"Action\"}, {\"id\": 12, \"name\": \"Adventure\"}, {\"id\": 14, \"name\": \"Fantasy\"}, {\"id\": 878, \"name\": \"Science Fiction\"}]'\n",
    "result = ast.literal_eval(data)\n",
    "print(result)\n"
   ]
  },
  {
   "cell_type": "code",
   "execution_count": 15,
   "id": "7bbf5397-f0a3-48e1-b453-f090edc24f26",
   "metadata": {
    "ExecuteTime": {
     "end_time": "2025-01-23T05:24:31.706274Z",
     "start_time": "2025-01-23T05:24:31.559059Z"
    }
   },
   "outputs": [],
   "source": [
    "movies['genres']=movies['genres'].apply(convert)"
   ]
  },
  {
   "cell_type": "code",
   "execution_count": 16,
   "id": "464b1f80-5609-43e5-a733-541ae5e1b189",
   "metadata": {
    "ExecuteTime": {
     "end_time": "2025-01-23T05:24:31.733330Z",
     "start_time": "2025-01-23T05:24:31.722202Z"
    }
   },
   "outputs": [
    {
     "data": {
      "text/html": [
       "<div>\n",
       "<style scoped>\n",
       "    .dataframe tbody tr th:only-of-type {\n",
       "        vertical-align: middle;\n",
       "    }\n",
       "\n",
       "    .dataframe tbody tr th {\n",
       "        vertical-align: top;\n",
       "    }\n",
       "\n",
       "    .dataframe thead th {\n",
       "        text-align: right;\n",
       "    }\n",
       "</style>\n",
       "<table border=\"1\" class=\"dataframe\">\n",
       "  <thead>\n",
       "    <tr style=\"text-align: right;\">\n",
       "      <th></th>\n",
       "      <th>movie_id</th>\n",
       "      <th>overview</th>\n",
       "      <th>title</th>\n",
       "      <th>cast</th>\n",
       "      <th>keywords</th>\n",
       "      <th>genres</th>\n",
       "      <th>crew</th>\n",
       "    </tr>\n",
       "  </thead>\n",
       "  <tbody>\n",
       "    <tr>\n",
       "      <th>0</th>\n",
       "      <td>19995</td>\n",
       "      <td>In the 22nd century, a paraplegic Marine is di...</td>\n",
       "      <td>Avatar</td>\n",
       "      <td>[{\"cast_id\": 242, \"character\": \"Jake Sully\", \"...</td>\n",
       "      <td>[{\"id\": 1463, \"name\": \"culture clash\"}, {\"id\":...</td>\n",
       "      <td>[Action, Adventure, Fantasy, Science Fiction]</td>\n",
       "      <td>[{\"credit_id\": \"52fe48009251416c750aca23\", \"de...</td>\n",
       "    </tr>\n",
       "    <tr>\n",
       "      <th>1</th>\n",
       "      <td>285</td>\n",
       "      <td>Captain Barbossa, long believed to be dead, ha...</td>\n",
       "      <td>Pirates of the Caribbean: At World's End</td>\n",
       "      <td>[{\"cast_id\": 4, \"character\": \"Captain Jack Spa...</td>\n",
       "      <td>[{\"id\": 270, \"name\": \"ocean\"}, {\"id\": 726, \"na...</td>\n",
       "      <td>[Adventure, Fantasy, Action]</td>\n",
       "      <td>[{\"credit_id\": \"52fe4232c3a36847f800b579\", \"de...</td>\n",
       "    </tr>\n",
       "    <tr>\n",
       "      <th>2</th>\n",
       "      <td>206647</td>\n",
       "      <td>A cryptic message from Bond’s past sends him o...</td>\n",
       "      <td>Spectre</td>\n",
       "      <td>[{\"cast_id\": 1, \"character\": \"James Bond\", \"cr...</td>\n",
       "      <td>[{\"id\": 470, \"name\": \"spy\"}, {\"id\": 818, \"name...</td>\n",
       "      <td>[Action, Adventure, Crime]</td>\n",
       "      <td>[{\"credit_id\": \"54805967c3a36829b5002c41\", \"de...</td>\n",
       "    </tr>\n",
       "    <tr>\n",
       "      <th>3</th>\n",
       "      <td>49026</td>\n",
       "      <td>Following the death of District Attorney Harve...</td>\n",
       "      <td>The Dark Knight Rises</td>\n",
       "      <td>[{\"cast_id\": 2, \"character\": \"Bruce Wayne / Ba...</td>\n",
       "      <td>[{\"id\": 849, \"name\": \"dc comics\"}, {\"id\": 853,...</td>\n",
       "      <td>[Action, Crime, Drama, Thriller]</td>\n",
       "      <td>[{\"credit_id\": \"52fe4781c3a36847f81398c3\", \"de...</td>\n",
       "    </tr>\n",
       "    <tr>\n",
       "      <th>4</th>\n",
       "      <td>49529</td>\n",
       "      <td>John Carter is a war-weary, former military ca...</td>\n",
       "      <td>John Carter</td>\n",
       "      <td>[{\"cast_id\": 5, \"character\": \"John Carter\", \"c...</td>\n",
       "      <td>[{\"id\": 818, \"name\": \"based on novel\"}, {\"id\":...</td>\n",
       "      <td>[Action, Adventure, Science Fiction]</td>\n",
       "      <td>[{\"credit_id\": \"52fe479ac3a36847f813eaa3\", \"de...</td>\n",
       "    </tr>\n",
       "  </tbody>\n",
       "</table>\n",
       "</div>"
      ],
      "text/plain": [
       "   movie_id                                           overview  \\\n",
       "0     19995  In the 22nd century, a paraplegic Marine is di...   \n",
       "1       285  Captain Barbossa, long believed to be dead, ha...   \n",
       "2    206647  A cryptic message from Bond’s past sends him o...   \n",
       "3     49026  Following the death of District Attorney Harve...   \n",
       "4     49529  John Carter is a war-weary, former military ca...   \n",
       "\n",
       "                                      title  \\\n",
       "0                                    Avatar   \n",
       "1  Pirates of the Caribbean: At World's End   \n",
       "2                                   Spectre   \n",
       "3                     The Dark Knight Rises   \n",
       "4                               John Carter   \n",
       "\n",
       "                                                cast  \\\n",
       "0  [{\"cast_id\": 242, \"character\": \"Jake Sully\", \"...   \n",
       "1  [{\"cast_id\": 4, \"character\": \"Captain Jack Spa...   \n",
       "2  [{\"cast_id\": 1, \"character\": \"James Bond\", \"cr...   \n",
       "3  [{\"cast_id\": 2, \"character\": \"Bruce Wayne / Ba...   \n",
       "4  [{\"cast_id\": 5, \"character\": \"John Carter\", \"c...   \n",
       "\n",
       "                                            keywords  \\\n",
       "0  [{\"id\": 1463, \"name\": \"culture clash\"}, {\"id\":...   \n",
       "1  [{\"id\": 270, \"name\": \"ocean\"}, {\"id\": 726, \"na...   \n",
       "2  [{\"id\": 470, \"name\": \"spy\"}, {\"id\": 818, \"name...   \n",
       "3  [{\"id\": 849, \"name\": \"dc comics\"}, {\"id\": 853,...   \n",
       "4  [{\"id\": 818, \"name\": \"based on novel\"}, {\"id\":...   \n",
       "\n",
       "                                          genres  \\\n",
       "0  [Action, Adventure, Fantasy, Science Fiction]   \n",
       "1                   [Adventure, Fantasy, Action]   \n",
       "2                     [Action, Adventure, Crime]   \n",
       "3               [Action, Crime, Drama, Thriller]   \n",
       "4           [Action, Adventure, Science Fiction]   \n",
       "\n",
       "                                                crew  \n",
       "0  [{\"credit_id\": \"52fe48009251416c750aca23\", \"de...  \n",
       "1  [{\"credit_id\": \"52fe4232c3a36847f800b579\", \"de...  \n",
       "2  [{\"credit_id\": \"54805967c3a36829b5002c41\", \"de...  \n",
       "3  [{\"credit_id\": \"52fe4781c3a36847f81398c3\", \"de...  \n",
       "4  [{\"credit_id\": \"52fe479ac3a36847f813eaa3\", \"de...  "
      ]
     },
     "execution_count": 16,
     "metadata": {},
     "output_type": "execute_result"
    }
   ],
   "source": [
    "movies.head()"
   ]
  },
  {
   "cell_type": "code",
   "execution_count": 17,
   "id": "0c604cdf-f699-4609-bfbb-e6e10bbf79df",
   "metadata": {
    "ExecuteTime": {
     "end_time": "2025-01-23T05:24:32.266478Z",
     "start_time": "2025-01-23T05:24:31.790447Z"
    }
   },
   "outputs": [],
   "source": [
    "movies['keywords']=movies['keywords'].apply(convert)"
   ]
  },
  {
   "cell_type": "code",
   "execution_count": 18,
   "id": "45817601-da22-4cfd-932f-8afee8f7b8cb",
   "metadata": {
    "ExecuteTime": {
     "end_time": "2025-01-23T05:24:32.333689Z",
     "start_time": "2025-01-23T05:24:32.319467Z"
    }
   },
   "outputs": [
    {
     "data": {
      "text/html": [
       "<div>\n",
       "<style scoped>\n",
       "    .dataframe tbody tr th:only-of-type {\n",
       "        vertical-align: middle;\n",
       "    }\n",
       "\n",
       "    .dataframe tbody tr th {\n",
       "        vertical-align: top;\n",
       "    }\n",
       "\n",
       "    .dataframe thead th {\n",
       "        text-align: right;\n",
       "    }\n",
       "</style>\n",
       "<table border=\"1\" class=\"dataframe\">\n",
       "  <thead>\n",
       "    <tr style=\"text-align: right;\">\n",
       "      <th></th>\n",
       "      <th>movie_id</th>\n",
       "      <th>overview</th>\n",
       "      <th>title</th>\n",
       "      <th>cast</th>\n",
       "      <th>keywords</th>\n",
       "      <th>genres</th>\n",
       "      <th>crew</th>\n",
       "    </tr>\n",
       "  </thead>\n",
       "  <tbody>\n",
       "    <tr>\n",
       "      <th>0</th>\n",
       "      <td>19995</td>\n",
       "      <td>In the 22nd century, a paraplegic Marine is di...</td>\n",
       "      <td>Avatar</td>\n",
       "      <td>[{\"cast_id\": 242, \"character\": \"Jake Sully\", \"...</td>\n",
       "      <td>[culture clash, future, space war, space colon...</td>\n",
       "      <td>[Action, Adventure, Fantasy, Science Fiction]</td>\n",
       "      <td>[{\"credit_id\": \"52fe48009251416c750aca23\", \"de...</td>\n",
       "    </tr>\n",
       "    <tr>\n",
       "      <th>1</th>\n",
       "      <td>285</td>\n",
       "      <td>Captain Barbossa, long believed to be dead, ha...</td>\n",
       "      <td>Pirates of the Caribbean: At World's End</td>\n",
       "      <td>[{\"cast_id\": 4, \"character\": \"Captain Jack Spa...</td>\n",
       "      <td>[ocean, drug abuse, exotic island, east india ...</td>\n",
       "      <td>[Adventure, Fantasy, Action]</td>\n",
       "      <td>[{\"credit_id\": \"52fe4232c3a36847f800b579\", \"de...</td>\n",
       "    </tr>\n",
       "    <tr>\n",
       "      <th>2</th>\n",
       "      <td>206647</td>\n",
       "      <td>A cryptic message from Bond’s past sends him o...</td>\n",
       "      <td>Spectre</td>\n",
       "      <td>[{\"cast_id\": 1, \"character\": \"James Bond\", \"cr...</td>\n",
       "      <td>[spy, based on novel, secret agent, sequel, mi...</td>\n",
       "      <td>[Action, Adventure, Crime]</td>\n",
       "      <td>[{\"credit_id\": \"54805967c3a36829b5002c41\", \"de...</td>\n",
       "    </tr>\n",
       "    <tr>\n",
       "      <th>3</th>\n",
       "      <td>49026</td>\n",
       "      <td>Following the death of District Attorney Harve...</td>\n",
       "      <td>The Dark Knight Rises</td>\n",
       "      <td>[{\"cast_id\": 2, \"character\": \"Bruce Wayne / Ba...</td>\n",
       "      <td>[dc comics, crime fighter, terrorist, secret i...</td>\n",
       "      <td>[Action, Crime, Drama, Thriller]</td>\n",
       "      <td>[{\"credit_id\": \"52fe4781c3a36847f81398c3\", \"de...</td>\n",
       "    </tr>\n",
       "    <tr>\n",
       "      <th>4</th>\n",
       "      <td>49529</td>\n",
       "      <td>John Carter is a war-weary, former military ca...</td>\n",
       "      <td>John Carter</td>\n",
       "      <td>[{\"cast_id\": 5, \"character\": \"John Carter\", \"c...</td>\n",
       "      <td>[based on novel, mars, medallion, space travel...</td>\n",
       "      <td>[Action, Adventure, Science Fiction]</td>\n",
       "      <td>[{\"credit_id\": \"52fe479ac3a36847f813eaa3\", \"de...</td>\n",
       "    </tr>\n",
       "  </tbody>\n",
       "</table>\n",
       "</div>"
      ],
      "text/plain": [
       "   movie_id                                           overview  \\\n",
       "0     19995  In the 22nd century, a paraplegic Marine is di...   \n",
       "1       285  Captain Barbossa, long believed to be dead, ha...   \n",
       "2    206647  A cryptic message from Bond’s past sends him o...   \n",
       "3     49026  Following the death of District Attorney Harve...   \n",
       "4     49529  John Carter is a war-weary, former military ca...   \n",
       "\n",
       "                                      title  \\\n",
       "0                                    Avatar   \n",
       "1  Pirates of the Caribbean: At World's End   \n",
       "2                                   Spectre   \n",
       "3                     The Dark Knight Rises   \n",
       "4                               John Carter   \n",
       "\n",
       "                                                cast  \\\n",
       "0  [{\"cast_id\": 242, \"character\": \"Jake Sully\", \"...   \n",
       "1  [{\"cast_id\": 4, \"character\": \"Captain Jack Spa...   \n",
       "2  [{\"cast_id\": 1, \"character\": \"James Bond\", \"cr...   \n",
       "3  [{\"cast_id\": 2, \"character\": \"Bruce Wayne / Ba...   \n",
       "4  [{\"cast_id\": 5, \"character\": \"John Carter\", \"c...   \n",
       "\n",
       "                                            keywords  \\\n",
       "0  [culture clash, future, space war, space colon...   \n",
       "1  [ocean, drug abuse, exotic island, east india ...   \n",
       "2  [spy, based on novel, secret agent, sequel, mi...   \n",
       "3  [dc comics, crime fighter, terrorist, secret i...   \n",
       "4  [based on novel, mars, medallion, space travel...   \n",
       "\n",
       "                                          genres  \\\n",
       "0  [Action, Adventure, Fantasy, Science Fiction]   \n",
       "1                   [Adventure, Fantasy, Action]   \n",
       "2                     [Action, Adventure, Crime]   \n",
       "3               [Action, Crime, Drama, Thriller]   \n",
       "4           [Action, Adventure, Science Fiction]   \n",
       "\n",
       "                                                crew  \n",
       "0  [{\"credit_id\": \"52fe48009251416c750aca23\", \"de...  \n",
       "1  [{\"credit_id\": \"52fe4232c3a36847f800b579\", \"de...  \n",
       "2  [{\"credit_id\": \"54805967c3a36829b5002c41\", \"de...  \n",
       "3  [{\"credit_id\": \"52fe4781c3a36847f81398c3\", \"de...  \n",
       "4  [{\"credit_id\": \"52fe479ac3a36847f813eaa3\", \"de...  "
      ]
     },
     "execution_count": 18,
     "metadata": {},
     "output_type": "execute_result"
    }
   ],
   "source": [
    "movies.head()"
   ]
  },
  {
   "cell_type": "code",
   "execution_count": 19,
   "id": "372474d6-88c1-46e8-abed-5fb7ca60b85c",
   "metadata": {
    "ExecuteTime": {
     "end_time": "2025-01-23T05:24:32.353068Z",
     "start_time": "2025-01-23T05:24:32.348701Z"
    }
   },
   "outputs": [],
   "source": [
    "def convert3(obj):\n",
    "    L=[]\n",
    "    counter=0\n",
    "    for i in ast.literal_eval(obj):\n",
    "      if counter !=3:\n",
    "        L.append(i['name'])\n",
    "        counter+=1\n",
    "      else:\n",
    "        break\n",
    "    return L\n",
    "    "
   ]
  },
  {
   "cell_type": "code",
   "execution_count": 20,
   "id": "94ac7510-3075-4dcb-87dc-8ae4ba0ff902",
   "metadata": {
    "ExecuteTime": {
     "end_time": "2025-01-23T05:24:35.393230Z",
     "start_time": "2025-01-23T05:24:32.487277Z"
    }
   },
   "outputs": [],
   "source": [
    "movies['cast']=movies['cast'].apply(convert3)"
   ]
  },
  {
   "cell_type": "code",
   "execution_count": 21,
   "id": "2ed68d95-1c3e-4601-b2aa-902823b54d98",
   "metadata": {
    "ExecuteTime": {
     "end_time": "2025-01-23T05:24:35.452826Z",
     "start_time": "2025-01-23T05:24:35.440664Z"
    }
   },
   "outputs": [
    {
     "data": {
      "text/html": [
       "<div>\n",
       "<style scoped>\n",
       "    .dataframe tbody tr th:only-of-type {\n",
       "        vertical-align: middle;\n",
       "    }\n",
       "\n",
       "    .dataframe tbody tr th {\n",
       "        vertical-align: top;\n",
       "    }\n",
       "\n",
       "    .dataframe thead th {\n",
       "        text-align: right;\n",
       "    }\n",
       "</style>\n",
       "<table border=\"1\" class=\"dataframe\">\n",
       "  <thead>\n",
       "    <tr style=\"text-align: right;\">\n",
       "      <th></th>\n",
       "      <th>movie_id</th>\n",
       "      <th>overview</th>\n",
       "      <th>title</th>\n",
       "      <th>cast</th>\n",
       "      <th>keywords</th>\n",
       "      <th>genres</th>\n",
       "      <th>crew</th>\n",
       "    </tr>\n",
       "  </thead>\n",
       "  <tbody>\n",
       "    <tr>\n",
       "      <th>0</th>\n",
       "      <td>19995</td>\n",
       "      <td>In the 22nd century, a paraplegic Marine is di...</td>\n",
       "      <td>Avatar</td>\n",
       "      <td>[Sam Worthington, Zoe Saldana, Sigourney Weaver]</td>\n",
       "      <td>[culture clash, future, space war, space colon...</td>\n",
       "      <td>[Action, Adventure, Fantasy, Science Fiction]</td>\n",
       "      <td>[{\"credit_id\": \"52fe48009251416c750aca23\", \"de...</td>\n",
       "    </tr>\n",
       "    <tr>\n",
       "      <th>1</th>\n",
       "      <td>285</td>\n",
       "      <td>Captain Barbossa, long believed to be dead, ha...</td>\n",
       "      <td>Pirates of the Caribbean: At World's End</td>\n",
       "      <td>[Johnny Depp, Orlando Bloom, Keira Knightley]</td>\n",
       "      <td>[ocean, drug abuse, exotic island, east india ...</td>\n",
       "      <td>[Adventure, Fantasy, Action]</td>\n",
       "      <td>[{\"credit_id\": \"52fe4232c3a36847f800b579\", \"de...</td>\n",
       "    </tr>\n",
       "    <tr>\n",
       "      <th>2</th>\n",
       "      <td>206647</td>\n",
       "      <td>A cryptic message from Bond’s past sends him o...</td>\n",
       "      <td>Spectre</td>\n",
       "      <td>[Daniel Craig, Christoph Waltz, Léa Seydoux]</td>\n",
       "      <td>[spy, based on novel, secret agent, sequel, mi...</td>\n",
       "      <td>[Action, Adventure, Crime]</td>\n",
       "      <td>[{\"credit_id\": \"54805967c3a36829b5002c41\", \"de...</td>\n",
       "    </tr>\n",
       "    <tr>\n",
       "      <th>3</th>\n",
       "      <td>49026</td>\n",
       "      <td>Following the death of District Attorney Harve...</td>\n",
       "      <td>The Dark Knight Rises</td>\n",
       "      <td>[Christian Bale, Michael Caine, Gary Oldman]</td>\n",
       "      <td>[dc comics, crime fighter, terrorist, secret i...</td>\n",
       "      <td>[Action, Crime, Drama, Thriller]</td>\n",
       "      <td>[{\"credit_id\": \"52fe4781c3a36847f81398c3\", \"de...</td>\n",
       "    </tr>\n",
       "    <tr>\n",
       "      <th>4</th>\n",
       "      <td>49529</td>\n",
       "      <td>John Carter is a war-weary, former military ca...</td>\n",
       "      <td>John Carter</td>\n",
       "      <td>[Taylor Kitsch, Lynn Collins, Samantha Morton]</td>\n",
       "      <td>[based on novel, mars, medallion, space travel...</td>\n",
       "      <td>[Action, Adventure, Science Fiction]</td>\n",
       "      <td>[{\"credit_id\": \"52fe479ac3a36847f813eaa3\", \"de...</td>\n",
       "    </tr>\n",
       "  </tbody>\n",
       "</table>\n",
       "</div>"
      ],
      "text/plain": [
       "   movie_id                                           overview  \\\n",
       "0     19995  In the 22nd century, a paraplegic Marine is di...   \n",
       "1       285  Captain Barbossa, long believed to be dead, ha...   \n",
       "2    206647  A cryptic message from Bond’s past sends him o...   \n",
       "3     49026  Following the death of District Attorney Harve...   \n",
       "4     49529  John Carter is a war-weary, former military ca...   \n",
       "\n",
       "                                      title  \\\n",
       "0                                    Avatar   \n",
       "1  Pirates of the Caribbean: At World's End   \n",
       "2                                   Spectre   \n",
       "3                     The Dark Knight Rises   \n",
       "4                               John Carter   \n",
       "\n",
       "                                               cast  \\\n",
       "0  [Sam Worthington, Zoe Saldana, Sigourney Weaver]   \n",
       "1     [Johnny Depp, Orlando Bloom, Keira Knightley]   \n",
       "2      [Daniel Craig, Christoph Waltz, Léa Seydoux]   \n",
       "3      [Christian Bale, Michael Caine, Gary Oldman]   \n",
       "4    [Taylor Kitsch, Lynn Collins, Samantha Morton]   \n",
       "\n",
       "                                            keywords  \\\n",
       "0  [culture clash, future, space war, space colon...   \n",
       "1  [ocean, drug abuse, exotic island, east india ...   \n",
       "2  [spy, based on novel, secret agent, sequel, mi...   \n",
       "3  [dc comics, crime fighter, terrorist, secret i...   \n",
       "4  [based on novel, mars, medallion, space travel...   \n",
       "\n",
       "                                          genres  \\\n",
       "0  [Action, Adventure, Fantasy, Science Fiction]   \n",
       "1                   [Adventure, Fantasy, Action]   \n",
       "2                     [Action, Adventure, Crime]   \n",
       "3               [Action, Crime, Drama, Thriller]   \n",
       "4           [Action, Adventure, Science Fiction]   \n",
       "\n",
       "                                                crew  \n",
       "0  [{\"credit_id\": \"52fe48009251416c750aca23\", \"de...  \n",
       "1  [{\"credit_id\": \"52fe4232c3a36847f800b579\", \"de...  \n",
       "2  [{\"credit_id\": \"54805967c3a36829b5002c41\", \"de...  \n",
       "3  [{\"credit_id\": \"52fe4781c3a36847f81398c3\", \"de...  \n",
       "4  [{\"credit_id\": \"52fe479ac3a36847f813eaa3\", \"de...  "
      ]
     },
     "execution_count": 21,
     "metadata": {},
     "output_type": "execute_result"
    }
   ],
   "source": [
    "movies.head()"
   ]
  },
  {
   "cell_type": "code",
   "execution_count": 22,
   "id": "9bc63d2d-1faa-4628-a024-546a4968a714",
   "metadata": {
    "ExecuteTime": {
     "end_time": "2025-01-23T05:24:35.494661Z",
     "start_time": "2025-01-23T05:24:35.489749Z"
    }
   },
   "outputs": [
    {
     "data": {
      "text/plain": [
       "'In the 22nd century, a paraplegic Marine is dispatched to the moon Pandora on a unique mission, but becomes torn between following orders and protecting an alien civilization.'"
      ]
     },
     "execution_count": 22,
     "metadata": {},
     "output_type": "execute_result"
    }
   ],
   "source": [
    "movies['overview'][0] "
   ]
  },
  {
   "cell_type": "code",
   "execution_count": 23,
   "id": "ceca5952-60dd-4ba1-9464-48cb23560d34",
   "metadata": {
    "ExecuteTime": {
     "end_time": "2025-01-23T05:24:35.670457Z",
     "start_time": "2025-01-23T05:24:35.640442Z"
    }
   },
   "outputs": [],
   "source": [
    "movies['overview']= movies['overview'].apply(lambda x:x.split())"
   ]
  },
  {
   "cell_type": "code",
   "execution_count": 24,
   "id": "dce0c57b-d4f7-47f7-b938-a0df17cf8466",
   "metadata": {
    "ExecuteTime": {
     "end_time": "2025-01-23T05:24:35.799543Z",
     "start_time": "2025-01-23T05:24:35.784536Z"
    }
   },
   "outputs": [
    {
     "data": {
      "text/html": [
       "<div>\n",
       "<style scoped>\n",
       "    .dataframe tbody tr th:only-of-type {\n",
       "        vertical-align: middle;\n",
       "    }\n",
       "\n",
       "    .dataframe tbody tr th {\n",
       "        vertical-align: top;\n",
       "    }\n",
       "\n",
       "    .dataframe thead th {\n",
       "        text-align: right;\n",
       "    }\n",
       "</style>\n",
       "<table border=\"1\" class=\"dataframe\">\n",
       "  <thead>\n",
       "    <tr style=\"text-align: right;\">\n",
       "      <th></th>\n",
       "      <th>movie_id</th>\n",
       "      <th>overview</th>\n",
       "      <th>title</th>\n",
       "      <th>cast</th>\n",
       "      <th>keywords</th>\n",
       "      <th>genres</th>\n",
       "      <th>crew</th>\n",
       "    </tr>\n",
       "  </thead>\n",
       "  <tbody>\n",
       "    <tr>\n",
       "      <th>0</th>\n",
       "      <td>19995</td>\n",
       "      <td>[In, the, 22nd, century,, a, paraplegic, Marin...</td>\n",
       "      <td>Avatar</td>\n",
       "      <td>[Sam Worthington, Zoe Saldana, Sigourney Weaver]</td>\n",
       "      <td>[culture clash, future, space war, space colon...</td>\n",
       "      <td>[Action, Adventure, Fantasy, Science Fiction]</td>\n",
       "      <td>[{\"credit_id\": \"52fe48009251416c750aca23\", \"de...</td>\n",
       "    </tr>\n",
       "    <tr>\n",
       "      <th>1</th>\n",
       "      <td>285</td>\n",
       "      <td>[Captain, Barbossa,, long, believed, to, be, d...</td>\n",
       "      <td>Pirates of the Caribbean: At World's End</td>\n",
       "      <td>[Johnny Depp, Orlando Bloom, Keira Knightley]</td>\n",
       "      <td>[ocean, drug abuse, exotic island, east india ...</td>\n",
       "      <td>[Adventure, Fantasy, Action]</td>\n",
       "      <td>[{\"credit_id\": \"52fe4232c3a36847f800b579\", \"de...</td>\n",
       "    </tr>\n",
       "    <tr>\n",
       "      <th>2</th>\n",
       "      <td>206647</td>\n",
       "      <td>[A, cryptic, message, from, Bond’s, past, send...</td>\n",
       "      <td>Spectre</td>\n",
       "      <td>[Daniel Craig, Christoph Waltz, Léa Seydoux]</td>\n",
       "      <td>[spy, based on novel, secret agent, sequel, mi...</td>\n",
       "      <td>[Action, Adventure, Crime]</td>\n",
       "      <td>[{\"credit_id\": \"54805967c3a36829b5002c41\", \"de...</td>\n",
       "    </tr>\n",
       "    <tr>\n",
       "      <th>3</th>\n",
       "      <td>49026</td>\n",
       "      <td>[Following, the, death, of, District, Attorney...</td>\n",
       "      <td>The Dark Knight Rises</td>\n",
       "      <td>[Christian Bale, Michael Caine, Gary Oldman]</td>\n",
       "      <td>[dc comics, crime fighter, terrorist, secret i...</td>\n",
       "      <td>[Action, Crime, Drama, Thriller]</td>\n",
       "      <td>[{\"credit_id\": \"52fe4781c3a36847f81398c3\", \"de...</td>\n",
       "    </tr>\n",
       "    <tr>\n",
       "      <th>4</th>\n",
       "      <td>49529</td>\n",
       "      <td>[John, Carter, is, a, war-weary,, former, mili...</td>\n",
       "      <td>John Carter</td>\n",
       "      <td>[Taylor Kitsch, Lynn Collins, Samantha Morton]</td>\n",
       "      <td>[based on novel, mars, medallion, space travel...</td>\n",
       "      <td>[Action, Adventure, Science Fiction]</td>\n",
       "      <td>[{\"credit_id\": \"52fe479ac3a36847f813eaa3\", \"de...</td>\n",
       "    </tr>\n",
       "  </tbody>\n",
       "</table>\n",
       "</div>"
      ],
      "text/plain": [
       "   movie_id                                           overview  \\\n",
       "0     19995  [In, the, 22nd, century,, a, paraplegic, Marin...   \n",
       "1       285  [Captain, Barbossa,, long, believed, to, be, d...   \n",
       "2    206647  [A, cryptic, message, from, Bond’s, past, send...   \n",
       "3     49026  [Following, the, death, of, District, Attorney...   \n",
       "4     49529  [John, Carter, is, a, war-weary,, former, mili...   \n",
       "\n",
       "                                      title  \\\n",
       "0                                    Avatar   \n",
       "1  Pirates of the Caribbean: At World's End   \n",
       "2                                   Spectre   \n",
       "3                     The Dark Knight Rises   \n",
       "4                               John Carter   \n",
       "\n",
       "                                               cast  \\\n",
       "0  [Sam Worthington, Zoe Saldana, Sigourney Weaver]   \n",
       "1     [Johnny Depp, Orlando Bloom, Keira Knightley]   \n",
       "2      [Daniel Craig, Christoph Waltz, Léa Seydoux]   \n",
       "3      [Christian Bale, Michael Caine, Gary Oldman]   \n",
       "4    [Taylor Kitsch, Lynn Collins, Samantha Morton]   \n",
       "\n",
       "                                            keywords  \\\n",
       "0  [culture clash, future, space war, space colon...   \n",
       "1  [ocean, drug abuse, exotic island, east india ...   \n",
       "2  [spy, based on novel, secret agent, sequel, mi...   \n",
       "3  [dc comics, crime fighter, terrorist, secret i...   \n",
       "4  [based on novel, mars, medallion, space travel...   \n",
       "\n",
       "                                          genres  \\\n",
       "0  [Action, Adventure, Fantasy, Science Fiction]   \n",
       "1                   [Adventure, Fantasy, Action]   \n",
       "2                     [Action, Adventure, Crime]   \n",
       "3               [Action, Crime, Drama, Thriller]   \n",
       "4           [Action, Adventure, Science Fiction]   \n",
       "\n",
       "                                                crew  \n",
       "0  [{\"credit_id\": \"52fe48009251416c750aca23\", \"de...  \n",
       "1  [{\"credit_id\": \"52fe4232c3a36847f800b579\", \"de...  \n",
       "2  [{\"credit_id\": \"54805967c3a36829b5002c41\", \"de...  \n",
       "3  [{\"credit_id\": \"52fe4781c3a36847f81398c3\", \"de...  \n",
       "4  [{\"credit_id\": \"52fe479ac3a36847f813eaa3\", \"de...  "
      ]
     },
     "execution_count": 24,
     "metadata": {},
     "output_type": "execute_result"
    }
   ],
   "source": [
    "movies.head()"
   ]
  },
  {
   "cell_type": "code",
   "execution_count": 25,
   "id": "4e791da0-810e-40ca-8a2c-9c3d152e4b7a",
   "metadata": {
    "ExecuteTime": {
     "end_time": "2025-01-23T05:24:35.996619Z",
     "start_time": "2025-01-23T05:24:35.992235Z"
    }
   },
   "outputs": [],
   "source": [
    "def fetch_dirctors(obj):\n",
    "    L=[]\n",
    "    for i in ast.literal_eval(obj):\n",
    "        if i['job']=='Director':\n",
    "            L.append(i['name'])\n",
    "            break\n",
    "    return L"
   ]
  },
  {
   "cell_type": "code",
   "execution_count": 26,
   "id": "0b519a1d-2dea-4756-b24a-a4c69ea70a44",
   "metadata": {
    "ExecuteTime": {
     "end_time": "2025-01-23T05:24:38.975237Z",
     "start_time": "2025-01-23T05:24:36.067208Z"
    }
   },
   "outputs": [],
   "source": [
    "movies['crew']=movies['crew'].apply(fetch_dirctors)"
   ]
  },
  {
   "cell_type": "code",
   "execution_count": 27,
   "id": "c7cebd58-b768-41a6-aecb-4f3a41d482b0",
   "metadata": {
    "ExecuteTime": {
     "end_time": "2025-01-23T05:24:39.003629Z",
     "start_time": "2025-01-23T05:24:38.982254Z"
    }
   },
   "outputs": [],
   "source": [
    "movies['genres']=movies['genres'].apply(lambda x:[i.replace(\" \",\"\") for i in x])\n",
    "movies['keywords']=movies['keywords'].apply(lambda x:[i.replace(\" \",\"\")for i in x]) \n",
    "movies['cast']=movies['cast'].apply(lambda x:[i.replace (\" \",\"\")for i in x]) \n",
    "movies['crew']=movies['crew'].apply(lambda x:[i.replace (\" \",\"\")for i in x]) \n",
    "\n"
   ]
  },
  {
   "cell_type": "code",
   "execution_count": 28,
   "id": "ffdab85a-4398-4c16-a1f8-3217d79fc9d9",
   "metadata": {
    "ExecuteTime": {
     "end_time": "2025-01-23T05:24:39.031927Z",
     "start_time": "2025-01-23T05:24:39.017628Z"
    }
   },
   "outputs": [
    {
     "data": {
      "text/html": [
       "<div>\n",
       "<style scoped>\n",
       "    .dataframe tbody tr th:only-of-type {\n",
       "        vertical-align: middle;\n",
       "    }\n",
       "\n",
       "    .dataframe tbody tr th {\n",
       "        vertical-align: top;\n",
       "    }\n",
       "\n",
       "    .dataframe thead th {\n",
       "        text-align: right;\n",
       "    }\n",
       "</style>\n",
       "<table border=\"1\" class=\"dataframe\">\n",
       "  <thead>\n",
       "    <tr style=\"text-align: right;\">\n",
       "      <th></th>\n",
       "      <th>movie_id</th>\n",
       "      <th>overview</th>\n",
       "      <th>title</th>\n",
       "      <th>cast</th>\n",
       "      <th>keywords</th>\n",
       "      <th>genres</th>\n",
       "      <th>crew</th>\n",
       "    </tr>\n",
       "  </thead>\n",
       "  <tbody>\n",
       "    <tr>\n",
       "      <th>0</th>\n",
       "      <td>19995</td>\n",
       "      <td>[In, the, 22nd, century,, a, paraplegic, Marin...</td>\n",
       "      <td>Avatar</td>\n",
       "      <td>[SamWorthington, ZoeSaldana, SigourneyWeaver]</td>\n",
       "      <td>[cultureclash, future, spacewar, spacecolony, ...</td>\n",
       "      <td>[Action, Adventure, Fantasy, ScienceFiction]</td>\n",
       "      <td>[JamesCameron]</td>\n",
       "    </tr>\n",
       "    <tr>\n",
       "      <th>1</th>\n",
       "      <td>285</td>\n",
       "      <td>[Captain, Barbossa,, long, believed, to, be, d...</td>\n",
       "      <td>Pirates of the Caribbean: At World's End</td>\n",
       "      <td>[JohnnyDepp, OrlandoBloom, KeiraKnightley]</td>\n",
       "      <td>[ocean, drugabuse, exoticisland, eastindiatrad...</td>\n",
       "      <td>[Adventure, Fantasy, Action]</td>\n",
       "      <td>[GoreVerbinski]</td>\n",
       "    </tr>\n",
       "    <tr>\n",
       "      <th>2</th>\n",
       "      <td>206647</td>\n",
       "      <td>[A, cryptic, message, from, Bond’s, past, send...</td>\n",
       "      <td>Spectre</td>\n",
       "      <td>[DanielCraig, ChristophWaltz, LéaSeydoux]</td>\n",
       "      <td>[spy, basedonnovel, secretagent, sequel, mi6, ...</td>\n",
       "      <td>[Action, Adventure, Crime]</td>\n",
       "      <td>[SamMendes]</td>\n",
       "    </tr>\n",
       "    <tr>\n",
       "      <th>3</th>\n",
       "      <td>49026</td>\n",
       "      <td>[Following, the, death, of, District, Attorney...</td>\n",
       "      <td>The Dark Knight Rises</td>\n",
       "      <td>[ChristianBale, MichaelCaine, GaryOldman]</td>\n",
       "      <td>[dccomics, crimefighter, terrorist, secretiden...</td>\n",
       "      <td>[Action, Crime, Drama, Thriller]</td>\n",
       "      <td>[ChristopherNolan]</td>\n",
       "    </tr>\n",
       "    <tr>\n",
       "      <th>4</th>\n",
       "      <td>49529</td>\n",
       "      <td>[John, Carter, is, a, war-weary,, former, mili...</td>\n",
       "      <td>John Carter</td>\n",
       "      <td>[TaylorKitsch, LynnCollins, SamanthaMorton]</td>\n",
       "      <td>[basedonnovel, mars, medallion, spacetravel, p...</td>\n",
       "      <td>[Action, Adventure, ScienceFiction]</td>\n",
       "      <td>[AndrewStanton]</td>\n",
       "    </tr>\n",
       "  </tbody>\n",
       "</table>\n",
       "</div>"
      ],
      "text/plain": [
       "   movie_id                                           overview  \\\n",
       "0     19995  [In, the, 22nd, century,, a, paraplegic, Marin...   \n",
       "1       285  [Captain, Barbossa,, long, believed, to, be, d...   \n",
       "2    206647  [A, cryptic, message, from, Bond’s, past, send...   \n",
       "3     49026  [Following, the, death, of, District, Attorney...   \n",
       "4     49529  [John, Carter, is, a, war-weary,, former, mili...   \n",
       "\n",
       "                                      title  \\\n",
       "0                                    Avatar   \n",
       "1  Pirates of the Caribbean: At World's End   \n",
       "2                                   Spectre   \n",
       "3                     The Dark Knight Rises   \n",
       "4                               John Carter   \n",
       "\n",
       "                                            cast  \\\n",
       "0  [SamWorthington, ZoeSaldana, SigourneyWeaver]   \n",
       "1     [JohnnyDepp, OrlandoBloom, KeiraKnightley]   \n",
       "2      [DanielCraig, ChristophWaltz, LéaSeydoux]   \n",
       "3      [ChristianBale, MichaelCaine, GaryOldman]   \n",
       "4    [TaylorKitsch, LynnCollins, SamanthaMorton]   \n",
       "\n",
       "                                            keywords  \\\n",
       "0  [cultureclash, future, spacewar, spacecolony, ...   \n",
       "1  [ocean, drugabuse, exoticisland, eastindiatrad...   \n",
       "2  [spy, basedonnovel, secretagent, sequel, mi6, ...   \n",
       "3  [dccomics, crimefighter, terrorist, secretiden...   \n",
       "4  [basedonnovel, mars, medallion, spacetravel, p...   \n",
       "\n",
       "                                         genres                crew  \n",
       "0  [Action, Adventure, Fantasy, ScienceFiction]      [JamesCameron]  \n",
       "1                  [Adventure, Fantasy, Action]     [GoreVerbinski]  \n",
       "2                    [Action, Adventure, Crime]         [SamMendes]  \n",
       "3              [Action, Crime, Drama, Thriller]  [ChristopherNolan]  \n",
       "4           [Action, Adventure, ScienceFiction]     [AndrewStanton]  "
      ]
     },
     "execution_count": 28,
     "metadata": {},
     "output_type": "execute_result"
    }
   ],
   "source": [
    "movies.head()"
   ]
  },
  {
   "cell_type": "code",
   "execution_count": 29,
   "id": "33a739a6-e5ed-45d6-b5a6-b52aab1dcf8c",
   "metadata": {
    "ExecuteTime": {
     "end_time": "2025-01-23T05:24:39.123026Z",
     "start_time": "2025-01-23T05:24:39.079998Z"
    }
   },
   "outputs": [],
   "source": [
    "movies['tags']=movies['overview']+movies['genres']+movies['keywords']+movies['cast']+movies['crew']"
   ]
  },
  {
   "cell_type": "code",
   "execution_count": 30,
   "id": "0261b47c-d83f-4cff-978e-e9dc5836fb57",
   "metadata": {
    "ExecuteTime": {
     "end_time": "2025-01-23T05:24:39.201128Z",
     "start_time": "2025-01-23T05:24:39.179396Z"
    }
   },
   "outputs": [
    {
     "data": {
      "text/html": [
       "<div>\n",
       "<style scoped>\n",
       "    .dataframe tbody tr th:only-of-type {\n",
       "        vertical-align: middle;\n",
       "    }\n",
       "\n",
       "    .dataframe tbody tr th {\n",
       "        vertical-align: top;\n",
       "    }\n",
       "\n",
       "    .dataframe thead th {\n",
       "        text-align: right;\n",
       "    }\n",
       "</style>\n",
       "<table border=\"1\" class=\"dataframe\">\n",
       "  <thead>\n",
       "    <tr style=\"text-align: right;\">\n",
       "      <th></th>\n",
       "      <th>movie_id</th>\n",
       "      <th>overview</th>\n",
       "      <th>title</th>\n",
       "      <th>cast</th>\n",
       "      <th>keywords</th>\n",
       "      <th>genres</th>\n",
       "      <th>crew</th>\n",
       "      <th>tags</th>\n",
       "    </tr>\n",
       "  </thead>\n",
       "  <tbody>\n",
       "    <tr>\n",
       "      <th>0</th>\n",
       "      <td>19995</td>\n",
       "      <td>[In, the, 22nd, century,, a, paraplegic, Marin...</td>\n",
       "      <td>Avatar</td>\n",
       "      <td>[SamWorthington, ZoeSaldana, SigourneyWeaver]</td>\n",
       "      <td>[cultureclash, future, spacewar, spacecolony, ...</td>\n",
       "      <td>[Action, Adventure, Fantasy, ScienceFiction]</td>\n",
       "      <td>[JamesCameron]</td>\n",
       "      <td>[In, the, 22nd, century,, a, paraplegic, Marin...</td>\n",
       "    </tr>\n",
       "    <tr>\n",
       "      <th>1</th>\n",
       "      <td>285</td>\n",
       "      <td>[Captain, Barbossa,, long, believed, to, be, d...</td>\n",
       "      <td>Pirates of the Caribbean: At World's End</td>\n",
       "      <td>[JohnnyDepp, OrlandoBloom, KeiraKnightley]</td>\n",
       "      <td>[ocean, drugabuse, exoticisland, eastindiatrad...</td>\n",
       "      <td>[Adventure, Fantasy, Action]</td>\n",
       "      <td>[GoreVerbinski]</td>\n",
       "      <td>[Captain, Barbossa,, long, believed, to, be, d...</td>\n",
       "    </tr>\n",
       "    <tr>\n",
       "      <th>2</th>\n",
       "      <td>206647</td>\n",
       "      <td>[A, cryptic, message, from, Bond’s, past, send...</td>\n",
       "      <td>Spectre</td>\n",
       "      <td>[DanielCraig, ChristophWaltz, LéaSeydoux]</td>\n",
       "      <td>[spy, basedonnovel, secretagent, sequel, mi6, ...</td>\n",
       "      <td>[Action, Adventure, Crime]</td>\n",
       "      <td>[SamMendes]</td>\n",
       "      <td>[A, cryptic, message, from, Bond’s, past, send...</td>\n",
       "    </tr>\n",
       "    <tr>\n",
       "      <th>3</th>\n",
       "      <td>49026</td>\n",
       "      <td>[Following, the, death, of, District, Attorney...</td>\n",
       "      <td>The Dark Knight Rises</td>\n",
       "      <td>[ChristianBale, MichaelCaine, GaryOldman]</td>\n",
       "      <td>[dccomics, crimefighter, terrorist, secretiden...</td>\n",
       "      <td>[Action, Crime, Drama, Thriller]</td>\n",
       "      <td>[ChristopherNolan]</td>\n",
       "      <td>[Following, the, death, of, District, Attorney...</td>\n",
       "    </tr>\n",
       "    <tr>\n",
       "      <th>4</th>\n",
       "      <td>49529</td>\n",
       "      <td>[John, Carter, is, a, war-weary,, former, mili...</td>\n",
       "      <td>John Carter</td>\n",
       "      <td>[TaylorKitsch, LynnCollins, SamanthaMorton]</td>\n",
       "      <td>[basedonnovel, mars, medallion, spacetravel, p...</td>\n",
       "      <td>[Action, Adventure, ScienceFiction]</td>\n",
       "      <td>[AndrewStanton]</td>\n",
       "      <td>[John, Carter, is, a, war-weary,, former, mili...</td>\n",
       "    </tr>\n",
       "  </tbody>\n",
       "</table>\n",
       "</div>"
      ],
      "text/plain": [
       "   movie_id                                           overview  \\\n",
       "0     19995  [In, the, 22nd, century,, a, paraplegic, Marin...   \n",
       "1       285  [Captain, Barbossa,, long, believed, to, be, d...   \n",
       "2    206647  [A, cryptic, message, from, Bond’s, past, send...   \n",
       "3     49026  [Following, the, death, of, District, Attorney...   \n",
       "4     49529  [John, Carter, is, a, war-weary,, former, mili...   \n",
       "\n",
       "                                      title  \\\n",
       "0                                    Avatar   \n",
       "1  Pirates of the Caribbean: At World's End   \n",
       "2                                   Spectre   \n",
       "3                     The Dark Knight Rises   \n",
       "4                               John Carter   \n",
       "\n",
       "                                            cast  \\\n",
       "0  [SamWorthington, ZoeSaldana, SigourneyWeaver]   \n",
       "1     [JohnnyDepp, OrlandoBloom, KeiraKnightley]   \n",
       "2      [DanielCraig, ChristophWaltz, LéaSeydoux]   \n",
       "3      [ChristianBale, MichaelCaine, GaryOldman]   \n",
       "4    [TaylorKitsch, LynnCollins, SamanthaMorton]   \n",
       "\n",
       "                                            keywords  \\\n",
       "0  [cultureclash, future, spacewar, spacecolony, ...   \n",
       "1  [ocean, drugabuse, exoticisland, eastindiatrad...   \n",
       "2  [spy, basedonnovel, secretagent, sequel, mi6, ...   \n",
       "3  [dccomics, crimefighter, terrorist, secretiden...   \n",
       "4  [basedonnovel, mars, medallion, spacetravel, p...   \n",
       "\n",
       "                                         genres                crew  \\\n",
       "0  [Action, Adventure, Fantasy, ScienceFiction]      [JamesCameron]   \n",
       "1                  [Adventure, Fantasy, Action]     [GoreVerbinski]   \n",
       "2                    [Action, Adventure, Crime]         [SamMendes]   \n",
       "3              [Action, Crime, Drama, Thriller]  [ChristopherNolan]   \n",
       "4           [Action, Adventure, ScienceFiction]     [AndrewStanton]   \n",
       "\n",
       "                                                tags  \n",
       "0  [In, the, 22nd, century,, a, paraplegic, Marin...  \n",
       "1  [Captain, Barbossa,, long, believed, to, be, d...  \n",
       "2  [A, cryptic, message, from, Bond’s, past, send...  \n",
       "3  [Following, the, death, of, District, Attorney...  \n",
       "4  [John, Carter, is, a, war-weary,, former, mili...  "
      ]
     },
     "execution_count": 30,
     "metadata": {},
     "output_type": "execute_result"
    }
   ],
   "source": [
    "movies.head()"
   ]
  },
  {
   "cell_type": "code",
   "execution_count": 31,
   "id": "fc8c86bc-3e38-4a7b-b316-e859eab1b417",
   "metadata": {
    "ExecuteTime": {
     "end_time": "2025-01-23T05:24:39.307038Z",
     "start_time": "2025-01-23T05:24:39.300921Z"
    }
   },
   "outputs": [],
   "source": [
    "new_df=movies[['movie_id','title','tags']]"
   ]
  },
  {
   "cell_type": "code",
   "execution_count": 32,
   "id": "c9306a47-4b48-4656-a288-52df77d294fc",
   "metadata": {
    "ExecuteTime": {
     "end_time": "2025-01-23T05:24:39.468832Z",
     "start_time": "2025-01-23T05:24:39.452098Z"
    }
   },
   "outputs": [
    {
     "name": "stderr",
     "output_type": "stream",
     "text": [
      "C:\\Users\\91994\\AppData\\Local\\Temp\\ipykernel_10264\\487797088.py:1: SettingWithCopyWarning: \n",
      "A value is trying to be set on a copy of a slice from a DataFrame.\n",
      "Try using .loc[row_indexer,col_indexer] = value instead\n",
      "\n",
      "See the caveats in the documentation: https://pandas.pydata.org/pandas-docs/stable/user_guide/indexing.html#returning-a-view-versus-a-copy\n",
      "  new_df['tags']=new_df['tags'].apply(lambda x:\" \".join(x))\n"
     ]
    }
   ],
   "source": [
    "new_df['tags']=new_df['tags'].apply(lambda x:\" \".join(x))"
   ]
  },
  {
   "cell_type": "code",
   "execution_count": 33,
   "id": "c7d40ea5-1a5e-4ad7-90bc-9b5d2e323916",
   "metadata": {
    "ExecuteTime": {
     "end_time": "2025-01-23T05:24:39.570909Z",
     "start_time": "2025-01-23T05:24:39.562854Z"
    }
   },
   "outputs": [
    {
     "data": {
      "text/html": [
       "<div>\n",
       "<style scoped>\n",
       "    .dataframe tbody tr th:only-of-type {\n",
       "        vertical-align: middle;\n",
       "    }\n",
       "\n",
       "    .dataframe tbody tr th {\n",
       "        vertical-align: top;\n",
       "    }\n",
       "\n",
       "    .dataframe thead th {\n",
       "        text-align: right;\n",
       "    }\n",
       "</style>\n",
       "<table border=\"1\" class=\"dataframe\">\n",
       "  <thead>\n",
       "    <tr style=\"text-align: right;\">\n",
       "      <th></th>\n",
       "      <th>movie_id</th>\n",
       "      <th>title</th>\n",
       "      <th>tags</th>\n",
       "    </tr>\n",
       "  </thead>\n",
       "  <tbody>\n",
       "    <tr>\n",
       "      <th>0</th>\n",
       "      <td>19995</td>\n",
       "      <td>Avatar</td>\n",
       "      <td>In the 22nd century, a paraplegic Marine is di...</td>\n",
       "    </tr>\n",
       "    <tr>\n",
       "      <th>1</th>\n",
       "      <td>285</td>\n",
       "      <td>Pirates of the Caribbean: At World's End</td>\n",
       "      <td>Captain Barbossa, long believed to be dead, ha...</td>\n",
       "    </tr>\n",
       "    <tr>\n",
       "      <th>2</th>\n",
       "      <td>206647</td>\n",
       "      <td>Spectre</td>\n",
       "      <td>A cryptic message from Bond’s past sends him o...</td>\n",
       "    </tr>\n",
       "    <tr>\n",
       "      <th>3</th>\n",
       "      <td>49026</td>\n",
       "      <td>The Dark Knight Rises</td>\n",
       "      <td>Following the death of District Attorney Harve...</td>\n",
       "    </tr>\n",
       "    <tr>\n",
       "      <th>4</th>\n",
       "      <td>49529</td>\n",
       "      <td>John Carter</td>\n",
       "      <td>John Carter is a war-weary, former military ca...</td>\n",
       "    </tr>\n",
       "  </tbody>\n",
       "</table>\n",
       "</div>"
      ],
      "text/plain": [
       "   movie_id                                     title  \\\n",
       "0     19995                                    Avatar   \n",
       "1       285  Pirates of the Caribbean: At World's End   \n",
       "2    206647                                   Spectre   \n",
       "3     49026                     The Dark Knight Rises   \n",
       "4     49529                               John Carter   \n",
       "\n",
       "                                                tags  \n",
       "0  In the 22nd century, a paraplegic Marine is di...  \n",
       "1  Captain Barbossa, long believed to be dead, ha...  \n",
       "2  A cryptic message from Bond’s past sends him o...  \n",
       "3  Following the death of District Attorney Harve...  \n",
       "4  John Carter is a war-weary, former military ca...  "
      ]
     },
     "execution_count": 33,
     "metadata": {},
     "output_type": "execute_result"
    }
   ],
   "source": [
    "new_df.head()"
   ]
  },
  {
   "cell_type": "code",
   "execution_count": 34,
   "id": "7c4536ad-9a8d-407d-9e72-c6bb209036c6",
   "metadata": {
    "ExecuteTime": {
     "end_time": "2025-01-23T05:24:39.738242Z",
     "start_time": "2025-01-23T05:24:39.732632Z"
    }
   },
   "outputs": [
    {
     "data": {
      "text/plain": [
       "'In the 22nd century, a paraplegic Marine is dispatched to the moon Pandora on a unique mission, but becomes torn between following orders and protecting an alien civilization. Action Adventure Fantasy ScienceFiction cultureclash future spacewar spacecolony society spacetravel futuristic romance space alien tribe alienplanet cgi marine soldier battle loveaffair antiwar powerrelations mindandsoul 3d SamWorthington ZoeSaldana SigourneyWeaver JamesCameron'"
      ]
     },
     "execution_count": 34,
     "metadata": {},
     "output_type": "execute_result"
    }
   ],
   "source": [
    "new_df['tags'][0]"
   ]
  },
  {
   "cell_type": "code",
   "execution_count": 35,
   "id": "e0681e75-1f83-40a8-bc5d-ce2cc0df83c0",
   "metadata": {
    "ExecuteTime": {
     "end_time": "2025-01-23T05:24:39.860187Z",
     "start_time": "2025-01-23T05:24:39.847902Z"
    }
   },
   "outputs": [
    {
     "name": "stderr",
     "output_type": "stream",
     "text": [
      "C:\\Users\\91994\\AppData\\Local\\Temp\\ipykernel_10264\\2543325826.py:1: SettingWithCopyWarning: \n",
      "A value is trying to be set on a copy of a slice from a DataFrame.\n",
      "Try using .loc[row_indexer,col_indexer] = value instead\n",
      "\n",
      "See the caveats in the documentation: https://pandas.pydata.org/pandas-docs/stable/user_guide/indexing.html#returning-a-view-versus-a-copy\n",
      "  new_df['tags']=new_df['tags'].apply(lambda x: x.lower())\n"
     ]
    }
   ],
   "source": [
    "new_df['tags']=new_df['tags'].apply(lambda x: x.lower())"
   ]
  },
  {
   "cell_type": "code",
   "execution_count": 36,
   "id": "9f1bc49b-772c-4069-bf6d-f410ec2acc86",
   "metadata": {
    "ExecuteTime": {
     "end_time": "2025-01-23T05:24:39.976990Z",
     "start_time": "2025-01-23T05:24:39.968947Z"
    },
    "scrolled": true
   },
   "outputs": [
    {
     "data": {
      "text/html": [
       "<div>\n",
       "<style scoped>\n",
       "    .dataframe tbody tr th:only-of-type {\n",
       "        vertical-align: middle;\n",
       "    }\n",
       "\n",
       "    .dataframe tbody tr th {\n",
       "        vertical-align: top;\n",
       "    }\n",
       "\n",
       "    .dataframe thead th {\n",
       "        text-align: right;\n",
       "    }\n",
       "</style>\n",
       "<table border=\"1\" class=\"dataframe\">\n",
       "  <thead>\n",
       "    <tr style=\"text-align: right;\">\n",
       "      <th></th>\n",
       "      <th>movie_id</th>\n",
       "      <th>title</th>\n",
       "      <th>tags</th>\n",
       "    </tr>\n",
       "  </thead>\n",
       "  <tbody>\n",
       "    <tr>\n",
       "      <th>0</th>\n",
       "      <td>19995</td>\n",
       "      <td>Avatar</td>\n",
       "      <td>in the 22nd century, a paraplegic marine is di...</td>\n",
       "    </tr>\n",
       "    <tr>\n",
       "      <th>1</th>\n",
       "      <td>285</td>\n",
       "      <td>Pirates of the Caribbean: At World's End</td>\n",
       "      <td>captain barbossa, long believed to be dead, ha...</td>\n",
       "    </tr>\n",
       "    <tr>\n",
       "      <th>2</th>\n",
       "      <td>206647</td>\n",
       "      <td>Spectre</td>\n",
       "      <td>a cryptic message from bond’s past sends him o...</td>\n",
       "    </tr>\n",
       "    <tr>\n",
       "      <th>3</th>\n",
       "      <td>49026</td>\n",
       "      <td>The Dark Knight Rises</td>\n",
       "      <td>following the death of district attorney harve...</td>\n",
       "    </tr>\n",
       "    <tr>\n",
       "      <th>4</th>\n",
       "      <td>49529</td>\n",
       "      <td>John Carter</td>\n",
       "      <td>john carter is a war-weary, former military ca...</td>\n",
       "    </tr>\n",
       "  </tbody>\n",
       "</table>\n",
       "</div>"
      ],
      "text/plain": [
       "   movie_id                                     title  \\\n",
       "0     19995                                    Avatar   \n",
       "1       285  Pirates of the Caribbean: At World's End   \n",
       "2    206647                                   Spectre   \n",
       "3     49026                     The Dark Knight Rises   \n",
       "4     49529                               John Carter   \n",
       "\n",
       "                                                tags  \n",
       "0  in the 22nd century, a paraplegic marine is di...  \n",
       "1  captain barbossa, long believed to be dead, ha...  \n",
       "2  a cryptic message from bond’s past sends him o...  \n",
       "3  following the death of district attorney harve...  \n",
       "4  john carter is a war-weary, former military ca...  "
      ]
     },
     "execution_count": 36,
     "metadata": {},
     "output_type": "execute_result"
    }
   ],
   "source": [
    "new_df.head()\n"
   ]
  },
  {
   "cell_type": "code",
   "execution_count": 37,
   "id": "adcd490c-d71c-4788-a253-2b9f1d315f94",
   "metadata": {
    "ExecuteTime": {
     "end_time": "2025-01-23T05:24:41.616702Z",
     "start_time": "2025-01-23T05:24:40.113153Z"
    }
   },
   "outputs": [],
   "source": [
    "import nltk"
   ]
  },
  {
   "cell_type": "code",
   "execution_count": 38,
   "id": "e12d7d2b-2496-49ff-b131-f1937958cfbf",
   "metadata": {
    "ExecuteTime": {
     "end_time": "2025-01-23T05:24:41.647542Z",
     "start_time": "2025-01-23T05:24:41.642485Z"
    }
   },
   "outputs": [],
   "source": [
    "from nltk.stem.porter import PorterStemmer\n",
    "ps=PorterStemmer()"
   ]
  },
  {
   "cell_type": "code",
   "execution_count": 39,
   "id": "908b8151-712f-40a6-acae-c35409ef9d8a",
   "metadata": {
    "ExecuteTime": {
     "end_time": "2025-01-23T05:24:41.689966Z",
     "start_time": "2025-01-23T05:24:41.685495Z"
    }
   },
   "outputs": [],
   "source": [
    "def stem(text):\n",
    "    y=[]\n",
    "    for i in text.split():\n",
    "        y.append(ps.stem(i))\n",
    "    return \" \".join(y)\n",
    "        \n",
    "    "
   ]
  },
  {
   "cell_type": "code",
   "execution_count": 40,
   "id": "26a13e1c-fcd1-487f-8813-6ed7ce371447",
   "metadata": {
    "ExecuteTime": {
     "end_time": "2025-01-23T05:24:45.131690Z",
     "start_time": "2025-01-23T05:24:41.739740Z"
    }
   },
   "outputs": [
    {
     "name": "stderr",
     "output_type": "stream",
     "text": [
      "C:\\Users\\91994\\AppData\\Local\\Temp\\ipykernel_10264\\3514595201.py:1: SettingWithCopyWarning: \n",
      "A value is trying to be set on a copy of a slice from a DataFrame.\n",
      "Try using .loc[row_indexer,col_indexer] = value instead\n",
      "\n",
      "See the caveats in the documentation: https://pandas.pydata.org/pandas-docs/stable/user_guide/indexing.html#returning-a-view-versus-a-copy\n",
      "  new_df['tags']=new_df['tags'].apply(stem)\n"
     ]
    }
   ],
   "source": [
    "new_df['tags']=new_df['tags'].apply(stem)"
   ]
  },
  {
   "cell_type": "code",
   "execution_count": 41,
   "id": "d507292f-2828-4b49-8571-11d65a30386f",
   "metadata": {
    "ExecuteTime": {
     "end_time": "2025-01-23T05:24:45.141376Z",
     "start_time": "2025-01-23T05:24:45.137914Z"
    }
   },
   "outputs": [],
   "source": [
    "from sklearn.feature_extraction.text import CountVectorizer"
   ]
  },
  {
   "cell_type": "code",
   "execution_count": 42,
   "id": "1b505979-b6f4-48b9-b0f2-e949a3fa8627",
   "metadata": {
    "ExecuteTime": {
     "end_time": "2025-01-23T05:24:45.182637Z",
     "start_time": "2025-01-23T05:24:45.177599Z"
    }
   },
   "outputs": [],
   "source": [
    "cv=CountVectorizer(max_features=5000,stop_words='english')"
   ]
  },
  {
   "cell_type": "code",
   "execution_count": 43,
   "id": "ba6c86e7-4b39-4181-94c6-049fe7c046ac",
   "metadata": {
    "ExecuteTime": {
     "end_time": "2025-01-23T05:24:45.561535Z",
     "start_time": "2025-01-23T05:24:45.208740Z"
    }
   },
   "outputs": [],
   "source": [
    "vectors=cv.fit_transform(new_df['tags']).toarray()"
   ]
  },
  {
   "cell_type": "code",
   "execution_count": 44,
   "id": "b8b72fe6-2522-44e7-bb04-22f3fcf91d1b",
   "metadata": {
    "ExecuteTime": {
     "end_time": "2025-01-23T05:24:45.585051Z",
     "start_time": "2025-01-23T05:24:45.578934Z"
    }
   },
   "outputs": [
    {
     "data": {
      "text/plain": [
       "array([[0, 0, 0, ..., 0, 0, 0],\n",
       "       [0, 0, 0, ..., 0, 0, 0],\n",
       "       [0, 0, 0, ..., 0, 0, 0],\n",
       "       ...,\n",
       "       [0, 0, 0, ..., 0, 0, 0],\n",
       "       [0, 0, 0, ..., 0, 0, 0],\n",
       "       [0, 0, 0, ..., 0, 0, 0]])"
      ]
     },
     "execution_count": 44,
     "metadata": {},
     "output_type": "execute_result"
    }
   ],
   "source": [
    "vectors"
   ]
  },
  {
   "cell_type": "code",
   "execution_count": 45,
   "id": "1b3ab01c-eacf-4d86-9dae-2d683d98e99e",
   "metadata": {
    "ExecuteTime": {
     "end_time": "2025-01-23T05:24:45.622900Z",
     "start_time": "2025-01-23T05:24:45.616194Z"
    }
   },
   "outputs": [
    {
     "data": {
      "text/plain": [
       "array([0, 0, 0, ..., 0, 0, 0])"
      ]
     },
     "execution_count": 45,
     "metadata": {},
     "output_type": "execute_result"
    }
   ],
   "source": [
    "vectors[0]"
   ]
  },
  {
   "cell_type": "code",
   "execution_count": 46,
   "id": "99b80f8f-4b20-4a61-8f33-85b36c426996",
   "metadata": {
    "ExecuteTime": {
     "end_time": "2025-01-23T05:24:45.766343Z",
     "start_time": "2025-01-23T05:24:45.756854Z"
    }
   },
   "outputs": [
    {
     "data": {
      "text/plain": [
       "array(['000', '007', '10', ..., 'zone', 'zoo', 'zooeydeschanel'],\n",
       "      dtype=object)"
      ]
     },
     "execution_count": 46,
     "metadata": {},
     "output_type": "execute_result"
    }
   ],
   "source": [
    "cv.get_feature_names_out()"
   ]
  },
  {
   "cell_type": "code",
   "execution_count": 47,
   "id": "1ab297a4-9bc3-4813-bf29-c31d59191fee",
   "metadata": {
    "ExecuteTime": {
     "end_time": "2025-01-23T05:24:46.425168Z",
     "start_time": "2025-01-23T05:24:46.418773Z"
    }
   },
   "outputs": [
    {
     "data": {
      "text/plain": [
       "0                                         Avatar\n",
       "1       Pirates of the Caribbean: At World's End\n",
       "2                                        Spectre\n",
       "3                          The Dark Knight Rises\n",
       "4                                    John Carter\n",
       "                          ...                   \n",
       "4804                                 El Mariachi\n",
       "4805                                   Newlyweds\n",
       "4806                   Signed, Sealed, Delivered\n",
       "4807                            Shanghai Calling\n",
       "4808                           My Date with Drew\n",
       "Name: title, Length: 4806, dtype: object"
      ]
     },
     "execution_count": 47,
     "metadata": {},
     "output_type": "execute_result"
    }
   ],
   "source": [
    "new_df['title']"
   ]
  },
  {
   "cell_type": "code",
   "execution_count": 48,
   "id": "7389d703-ad76-4944-89a7-fb9ed980eee3",
   "metadata": {
    "ExecuteTime": {
     "end_time": "2025-01-23T05:24:46.565838Z",
     "start_time": "2025-01-23T05:24:46.556107Z"
    }
   },
   "outputs": [
    {
     "data": {
      "text/plain": [
       "'in the 22nd century, a parapleg marin is dispatch to the moon pandora on a uniqu mission, but becom torn between follow order and protect an alien civilization. action adventur fantasi sciencefict cultureclash futur spacewar spacecoloni societi spacetravel futurist romanc space alien tribe alienplanet cgi marin soldier battl loveaffair antiwar powerrel mindandsoul 3d samworthington zoesaldana sigourneyweav jamescameron'"
      ]
     },
     "execution_count": 48,
     "metadata": {},
     "output_type": "execute_result"
    }
   ],
   "source": [
    "stem('In the 22nd century, a paraplegic Marine is dispatched to the moon Pandora on a unique mission, but becomes torn between following orders and protecting an alien civilization. Action Adventure Fantasy ScienceFiction cultureclash future spacewar spacecolony society spacetravel futuristic romance space alien tribe alienplanet cgi marine soldier battle loveaffair antiwar powerrelations mindandsoul 3d SamWorthington ZoeSaldana SigourneyWeaver JamesCameron')"
   ]
  },
  {
   "cell_type": "code",
   "execution_count": 49,
   "id": "ec46d4b7-46f9-42e8-a507-dd11b0c15da1",
   "metadata": {
    "ExecuteTime": {
     "end_time": "2025-01-23T05:24:46.666877Z",
     "start_time": "2025-01-23T05:24:46.662725Z"
    }
   },
   "outputs": [],
   "source": [
    "from sklearn.metrics.pairwise import cosine_similarity"
   ]
  },
  {
   "cell_type": "code",
   "execution_count": 50,
   "id": "d96a23ad-e8c3-4a0f-8093-a07fc99e5129",
   "metadata": {
    "ExecuteTime": {
     "end_time": "2025-01-23T05:24:48.749960Z",
     "start_time": "2025-01-23T05:24:46.715644Z"
    }
   },
   "outputs": [],
   "source": [
    "similarity=cosine_similarity(vectors)"
   ]
  },
  {
   "cell_type": "code",
   "execution_count": 51,
   "id": "5df735ea-76c3-49c8-a0ed-d17ef7b0ba0b",
   "metadata": {
    "ExecuteTime": {
     "end_time": "2025-01-23T05:25:11.400353Z",
     "start_time": "2025-01-23T05:25:11.385369Z"
    }
   },
   "outputs": [
    {
     "data": {
      "text/plain": [
       "[np.float64(1.0000000000000002),\n",
       " np.float64(0.28676966733820225),\n",
       " np.float64(0.26901379342448517),\n",
       " np.float64(0.2605130246476754),\n",
       " np.float64(0.255608593705383),\n",
       " np.float64(0.25038669783359574),\n",
       " np.float64(0.24511108480187255),\n",
       " np.float64(0.24455799402225925),\n",
       " np.float64(0.2367785320221084),\n",
       " np.float64(0.23179316248638276),\n",
       " np.float64(0.23174488732966073),\n",
       " np.float64(0.2278389747471728),\n",
       " np.float64(0.2252817784447915),\n",
       " np.float64(0.21853668936906193),\n",
       " np.float64(0.21239769762143662),\n",
       " np.float64(0.2108663315950723),\n",
       " np.float64(0.2105263157894737),\n",
       " np.float64(0.20443988269091456),\n",
       " np.float64(0.20437977982832192),\n",
       " np.float64(0.20395079136182276),\n",
       " np.float64(0.2029530274475215),\n",
       " np.float64(0.2029530274475215),\n",
       " np.float64(0.20277677641345318),\n",
       " np.float64(0.2024645717996314),\n",
       " np.float64(0.2020475485519274),\n",
       " np.float64(0.1979082783981174),\n",
       " np.float64(0.19767387315371682),\n",
       " np.float64(0.1976738731537168),\n",
       " np.float64(0.19672236884115843),\n",
       " np.float64(0.1925214071641298),\n",
       " np.float64(0.19134594929397597),\n",
       " np.float64(0.19088542889273336),\n",
       " np.float64(0.19088542889273336),\n",
       " np.float64(0.19007487139298027),\n",
       " np.float64(0.1892994097121204),\n",
       " np.float64(0.18731716231633883),\n",
       " np.float64(0.1873171623163388),\n",
       " np.float64(0.18693292157876878),\n",
       " np.float64(0.1860807318911967),\n",
       " np.float64(0.18394180184548975),\n",
       " np.float64(0.18394180184548975),\n",
       " np.float64(0.1813690625275029),\n",
       " np.float64(0.18074256993863339),\n",
       " np.float64(0.17996850826633903),\n",
       " np.float64(0.17954621161490197),\n",
       " np.float64(0.1777046633277277),\n",
       " np.float64(0.17699808135119718),\n",
       " np.float64(0.17521916101261562),\n",
       " np.float64(0.17521916101261562),\n",
       " np.float64(0.17521916101261562),\n",
       " np.float64(0.17521916101261562),\n",
       " np.float64(0.1748149640244195),\n",
       " np.float64(0.17292861596651865),\n",
       " np.float64(0.1711905958155815),\n",
       " np.float64(0.1711905958155815),\n",
       " np.float64(0.17119059581558146),\n",
       " np.float64(0.17040572913692198),\n",
       " np.float64(0.16943474841747155),\n",
       " np.float64(0.16742770563222897),\n",
       " np.float64(0.16742770563222897),\n",
       " np.float64(0.16692446522239718),\n",
       " np.float64(0.1661625969589056),\n",
       " np.float64(0.16563698349810535),\n",
       " np.float64(0.16452254913212452),\n",
       " np.float64(0.16426202236672155),\n",
       " np.float64(0.16222142113076254),\n",
       " np.float64(0.16222142113076254),\n",
       " np.float64(0.16122923187750418),\n",
       " np.float64(0.16059101370939324),\n",
       " np.float64(0.15907119074394446),\n",
       " np.float64(0.15789473684210528),\n",
       " np.float64(0.15737789507292674),\n",
       " np.float64(0.15609763526361567),\n",
       " np.float64(0.15511334686589626),\n",
       " np.float64(0.1540171257313038),\n",
       " np.float64(0.15389675281277312),\n",
       " np.float64(0.15389675281277312),\n",
       " np.float64(0.152008377581442),\n",
       " np.float64(0.15018785229652767),\n",
       " np.float64(0.15018785229652767),\n",
       " np.float64(0.15018785229652765),\n",
       " np.float64(0.14843120879858804),\n",
       " np.float64(0.14808721943977307),\n",
       " np.float64(0.14673479641335554),\n",
       " np.float64(0.14673479641335554),\n",
       " np.float64(0.14659886790209342),\n",
       " np.float64(0.14601068654819693),\n",
       " np.float64(0.14567913668701626),\n",
       " np.float64(0.14567913668701626),\n",
       " np.float64(0.14509525002200235),\n",
       " np.float64(0.14509525002200235),\n",
       " np.float64(0.14509525002200233),\n",
       " np.float64(0.14421498760030763),\n",
       " np.float64(0.1442149876003076),\n",
       " np.float64(0.14350946197048198),\n",
       " np.float64(0.14350946197048198),\n",
       " np.float64(0.1433848336691011),\n",
       " np.float64(0.1433848336691011),\n",
       " np.float64(0.1433848336691011),\n",
       " np.float64(0.1419745572840903),\n",
       " np.float64(0.1419745572840903),\n",
       " np.float64(0.14159846508095775),\n",
       " np.float64(0.14159846508095775),\n",
       " np.float64(0.1411956236812263),\n",
       " np.float64(0.1411956236812263),\n",
       " np.float64(0.1411956236812263),\n",
       " np.float64(0.1411956236812263),\n",
       " np.float64(0.14048787173725413),\n",
       " np.float64(0.13977653617040256),\n",
       " np.float64(0.1391037210186643),\n",
       " np.float64(0.1391037210186643),\n",
       " np.float64(0.13872950617564817),\n",
       " np.float64(0.13834289277321493),\n",
       " np.float64(0.13834289277321493),\n",
       " np.float64(0.13834289277321493),\n",
       " np.float64(0.13834289277321493),\n",
       " np.float64(0.13710212427677043),\n",
       " np.float64(0.13710212427677043),\n",
       " np.float64(0.13710212427677043),\n",
       " np.float64(0.13629325512727639),\n",
       " np.float64(0.13530201829834768),\n",
       " np.float64(0.13530201829834768),\n",
       " np.float64(0.13530201829834768),\n",
       " np.float64(0.13530201829834768),\n",
       " np.float64(0.13530201829834768),\n",
       " np.float64(0.13518451760896877),\n",
       " np.float64(0.13518451760896877),\n",
       " np.float64(0.13497638119975428),\n",
       " np.float64(0.13476498501489081),\n",
       " np.float64(0.13369695534647594),\n",
       " np.float64(0.13369695534647594),\n",
       " np.float64(0.13369695534647594),\n",
       " np.float64(0.13334518676566626),\n",
       " np.float64(0.13334518676566626),\n",
       " np.float64(0.1324532357065044),\n",
       " np.float64(0.1324532357065044),\n",
       " np.float64(0.1324532357065044),\n",
       " np.float64(0.13245323570650439),\n",
       " np.float64(0.13157894736842107),\n",
       " np.float64(0.13124359177794215),\n",
       " np.float64(0.12988108336653278),\n",
       " np.float64(0.12988108336653278),\n",
       " np.float64(0.12988108336653278),\n",
       " np.float64(0.12988108336653278),\n",
       " np.float64(0.12977713690461004),\n",
       " np.float64(0.12977713690461004),\n",
       " np.float64(0.12977713690461004),\n",
       " np.float64(0.12892051277806202),\n",
       " np.float64(0.12824729401064427),\n",
       " np.float64(0.12824729401064427),\n",
       " np.float64(0.12824729401064427),\n",
       " np.float64(0.12824729401064427),\n",
       " np.float64(0.12725695259515557),\n",
       " np.float64(0.12725695259515557),\n",
       " np.float64(0.12725695259515557),\n",
       " np.float64(0.126673647984535),\n",
       " np.float64(0.126673647984535),\n",
       " np.float64(0.12565617248750865),\n",
       " np.float64(0.12565617248750863),\n",
       " np.float64(0.12515654358043973),\n",
       " np.float64(0.12515654358043973),\n",
       " np.float64(0.12515654358043973),\n",
       " np.float64(0.12515654358043973),\n",
       " np.float64(0.12487810821089254),\n",
       " np.float64(0.12487810821089254),\n",
       " np.float64(0.12487810821089254),\n",
       " np.float64(0.12462194771917919),\n",
       " np.float64(0.12361284651454937),\n",
       " np.float64(0.12262786789699316),\n",
       " np.float64(0.12262786789699316),\n",
       " np.float64(0.12262786789699316),\n",
       " np.float64(0.12262786789699313),\n",
       " np.float64(0.12227899701112963),\n",
       " np.float64(0.12227899701112963),\n",
       " np.float64(0.12227899701112963),\n",
       " np.float64(0.12166606584807191),\n",
       " np.float64(0.12166606584807191),\n",
       " np.float64(0.12166606584807191),\n",
       " np.float64(0.12166606584807191),\n",
       " np.float64(0.12072654548783007),\n",
       " np.float64(0.1204950466257556),\n",
       " np.float64(0.1204950466257556),\n",
       " np.float64(0.1204950466257556),\n",
       " np.float64(0.1204950466257556),\n",
       " np.float64(0.1204950466257556),\n",
       " np.float64(0.1204950466257556),\n",
       " np.float64(0.11980845957463077),\n",
       " np.float64(0.11959121830873498),\n",
       " np.float64(0.11959121830873498),\n",
       " np.float64(0.11959121830873498),\n",
       " np.float64(0.11959121830873498),\n",
       " np.float64(0.11846977555181847),\n",
       " np.float64(0.11846977555181847),\n",
       " np.float64(0.11846977555181847),\n",
       " np.float64(0.11846977555181847),\n",
       " np.float64(0.11803342130469506),\n",
       " np.float64(0.11803342130469505),\n",
       " np.float64(0.11803342130469505),\n",
       " np.float64(0.11803342130469505),\n",
       " np.float64(0.11712303424679457),\n",
       " np.float64(0.11707322644771176),\n",
       " np.float64(0.11707322644771176),\n",
       " np.float64(0.11707322644771176),\n",
       " np.float64(0.11707322644771176),\n",
       " np.float64(0.116543309349613),\n",
       " np.float64(0.116543309349613),\n",
       " np.float64(0.116543309349613),\n",
       " np.float64(0.116543309349613),\n",
       " np.float64(0.11587244366483038),\n",
       " np.float64(0.11587244366483038),\n",
       " np.float64(0.11551284429847784),\n",
       " np.float64(0.11506355109724453),\n",
       " np.float64(0.1147078669352809),\n",
       " np.float64(0.1147078669352809),\n",
       " np.float64(0.11470786693528087),\n",
       " np.float64(0.11470786693528087),\n",
       " np.float64(0.1141270638770543),\n",
       " np.float64(0.11357771260606365),\n",
       " np.float64(0.11357771260606365),\n",
       " np.float64(0.11299144295167773),\n",
       " np.float64(0.11295649894498103),\n",
       " np.float64(0.11295649894498103),\n",
       " np.float64(0.1124803176664619),\n",
       " np.float64(0.1124803176664619),\n",
       " np.float64(0.1124803176664619),\n",
       " np.float64(0.11239029738980327),\n",
       " np.float64(0.11164843913471803),\n",
       " np.float64(0.11164843913471803),\n",
       " np.float64(0.11164843913471803),\n",
       " np.float64(0.11164843913471803),\n",
       " np.float64(0.11141412945539662),\n",
       " np.float64(0.11141412945539662),\n",
       " np.float64(0.11141412945539661),\n",
       " np.float64(0.11128297681493143),\n",
       " np.float64(0.11128297681493143),\n",
       " np.float64(0.11128297681493143),\n",
       " np.float64(0.11128297681493143),\n",
       " np.float64(0.11092107999698035),\n",
       " np.float64(0.11092107999698035),\n",
       " np.float64(0.11037769642208699),\n",
       " np.float64(0.11020775375559676),\n",
       " np.float64(0.11020775375559674),\n",
       " np.float64(0.10968169942141637),\n",
       " np.float64(0.10968169942141635),\n",
       " np.float64(0.10968169942141635),\n",
       " np.float64(0.10968169942141635),\n",
       " np.float64(0.10968169942141635),\n",
       " np.float64(0.10968169942141635),\n",
       " np.float64(0.10936965981495178),\n",
       " np.float64(0.10882143751650175),\n",
       " np.float64(0.10882143751650175),\n",
       " np.float64(0.10882143751650175),\n",
       " np.float64(0.10882143751650175),\n",
       " np.float64(0.10876595882948199),\n",
       " np.float64(0.10838874619051501),\n",
       " np.float64(0.10838874619051501),\n",
       " np.float64(0.10838874619051501),\n",
       " np.float64(0.10838874619051501),\n",
       " np.float64(0.10814761408717502),\n",
       " np.float64(0.10814761408717502),\n",
       " np.float64(0.10814761408717502),\n",
       " np.float64(0.1074861545850028),\n",
       " np.float64(0.1074861545850028),\n",
       " np.float64(0.10743376064838502),\n",
       " np.float64(0.106676149412533),\n",
       " np.float64(0.106676149412533),\n",
       " np.float64(0.106676149412533),\n",
       " np.float64(0.106676149412533),\n",
       " np.float64(0.10650358071057624),\n",
       " np.float64(0.10650358071057624),\n",
       " np.float64(0.10619884881071831),\n",
       " np.float64(0.10619884881071831),\n",
       " np.float64(0.10619884881071831),\n",
       " np.float64(0.10619884881071831),\n",
       " np.float64(0.10619884881071831),\n",
       " np.float64(0.10619884881071831),\n",
       " np.float64(0.10619884881071831),\n",
       " np.float64(0.10559715077387793),\n",
       " np.float64(0.10559715077387793),\n",
       " np.float64(0.10559715077387793),\n",
       " np.float64(0.10526315789473685),\n",
       " np.float64(0.10526315789473685),\n",
       " np.float64(0.10526315789473685),\n",
       " np.float64(0.10526315789473685),\n",
       " np.float64(0.10526315789473685),\n",
       " np.float64(0.10471347707292386),\n",
       " np.float64(0.10390486669322622),\n",
       " np.float64(0.10390486669322622),\n",
       " np.float64(0.10390486669322622),\n",
       " np.float64(0.10390486669322622),\n",
       " np.float64(0.10390486669322622),\n",
       " np.float64(0.10390486669322622),\n",
       " np.float64(0.10385162309931599),\n",
       " np.float64(0.10385162309931599),\n",
       " np.float64(0.1037571695799112),\n",
       " np.float64(0.1037571695799112),\n",
       " np.float64(0.1037571695799112),\n",
       " np.float64(0.1037571695799112),\n",
       " np.float64(0.1037571695799112),\n",
       " np.float64(0.1037571695799112),\n",
       " np.float64(0.1037571695799112),\n",
       " np.float64(0.10301070542879115),\n",
       " np.float64(0.10259783520851541),\n",
       " np.float64(0.10259783520851541),\n",
       " np.float64(0.10259783520851541),\n",
       " np.float64(0.10259783520851541),\n",
       " np.float64(0.10259783520851541),\n",
       " np.float64(0.10259783520851541),\n",
       " np.float64(0.10259783520851541),\n",
       " np.float64(0.10259783520851541),\n",
       " np.float64(0.10218988991416095),\n",
       " np.float64(0.10147651372376076),\n",
       " np.float64(0.10147651372376076),\n",
       " np.float64(0.10147651372376076),\n",
       " np.float64(0.10147651372376076),\n",
       " np.float64(0.10138838820672659),\n",
       " np.float64(0.101338918387628),\n",
       " np.float64(0.10133891838762799),\n",
       " np.float64(0.10060545457319173),\n",
       " np.float64(0.10060545457319173),\n",
       " np.float64(0.10060545457319173),\n",
       " np.float64(0.10012523486435178),\n",
       " np.float64(0.10012523486435178),\n",
       " np.float64(0.10012523486435178),\n",
       " np.float64(0.10012523486435178),\n",
       " np.float64(0.10012523486435178),\n",
       " np.float64(0.10012523486435178),\n",
       " np.float64(0.09933992677987831),\n",
       " np.float64(0.09933992677987831),\n",
       " np.float64(0.09933992677987831),\n",
       " np.float64(0.09933992677987831),\n",
       " np.float64(0.09933992677987831),\n",
       " np.float64(0.09933992677987831),\n",
       " np.float64(0.09933992677987831),\n",
       " np.float64(0.09933992677987831),\n",
       " np.float64(0.09933992677987831),\n",
       " np.float64(0.09933992677987831),\n",
       " np.float64(0.09933992677987831),\n",
       " np.float64(0.09933992677987831),\n",
       " np.float64(0.09909250441117726),\n",
       " np.float64(0.09909250441117726),\n",
       " np.float64(0.0989541391990587),\n",
       " np.float64(0.0989541391990587),\n",
       " np.float64(0.0989541391990587),\n",
       " np.float64(0.0989541391990587),\n",
       " np.float64(0.0989541391990587),\n",
       " np.float64(0.0989541391990587),\n",
       " np.float64(0.0989541391990587),\n",
       " np.float64(0.09836118442057921),\n",
       " np.float64(0.0978231976089037),\n",
       " np.float64(0.0978231976089037),\n",
       " np.float64(0.0978231976089037),\n",
       " np.float64(0.0978231976089037),\n",
       " np.float64(0.0978231976089037),\n",
       " np.float64(0.0978231976089037),\n",
       " np.float64(0.0978231976089037),\n",
       " np.float64(0.0978231976089037),\n",
       " np.float64(0.09733285267845754),\n",
       " np.float64(0.09733285267845754),\n",
       " np.float64(0.09733285267845754),\n",
       " np.float64(0.09733285267845754),\n",
       " np.float64(0.09733285267845754),\n",
       " np.float64(0.09733285267845754),\n",
       " np.float64(0.09733285267845754),\n",
       " np.float64(0.09733285267845754),\n",
       " np.float64(0.09733285267845754),\n",
       " np.float64(0.09733285267845754),\n",
       " np.float64(0.09733285267845754),\n",
       " np.float64(0.0967301666813349),\n",
       " np.float64(0.09567297464698798),\n",
       " np.float64(0.09567297464698798),\n",
       " np.float64(0.09567297464698798),\n",
       " np.float64(0.09567297464698798),\n",
       " np.float64(0.09558988911273408),\n",
       " np.float64(0.09544271444636668),\n",
       " np.float64(0.09544271444636668),\n",
       " np.float64(0.09544271444636668),\n",
       " np.float64(0.09544271444636668),\n",
       " np.float64(0.09544271444636668),\n",
       " np.float64(0.09493290614465533),\n",
       " np.float64(0.09464970485606021),\n",
       " np.float64(0.09464970485606021),\n",
       " np.float64(0.09365858115816941),\n",
       " np.float64(0.09365858115816941),\n",
       " np.float64(0.09365858115816941),\n",
       " np.float64(0.09365858115816941),\n",
       " np.float64(0.09365858115816941),\n",
       " np.float64(0.09365858115816941),\n",
       " np.float64(0.09365858115816941),\n",
       " np.float64(0.09365858115816941),\n",
       " np.float64(0.09365858115816941),\n",
       " np.float64(0.09365858115816941),\n",
       " np.float64(0.09365858115816941),\n",
       " np.float64(0.09365858115816941),\n",
       " np.float64(0.09365858115816941),\n",
       " np.float64(0.09365858115816941),\n",
       " np.float64(0.09365858115816941),\n",
       " np.float64(0.09365858115816941),\n",
       " np.float64(0.09365858115816941),\n",
       " np.float64(0.09365858115816941),\n",
       " np.float64(0.09365858115816939),\n",
       " np.float64(0.09269795493186431),\n",
       " np.float64(0.09269795493186431),\n",
       " np.float64(0.09269795493186431),\n",
       " np.float64(0.09269795493186431),\n",
       " np.float64(0.09269795493186431),\n",
       " np.float64(0.09269795493186431),\n",
       " np.float64(0.09269795493186431),\n",
       " np.float64(0.09269795493186431),\n",
       " np.float64(0.09269795493186431),\n",
       " np.float64(0.09243423333081695),\n",
       " np.float64(0.09197090092274487),\n",
       " np.float64(0.09197090092274487),\n",
       " np.float64(0.09197090092274487),\n",
       " np.float64(0.09197090092274487),\n",
       " np.float64(0.09197090092274487),\n",
       " np.float64(0.09197090092274487),\n",
       " np.float64(0.09197090092274487),\n",
       " np.float64(0.09197090092274487),\n",
       " np.float64(0.09183979479633063),\n",
       " np.float64(0.09183979479633063),\n",
       " np.float64(0.09125667909262308),\n",
       " np.float64(0.09125667909262308),\n",
       " np.float64(0.09086217008485092),\n",
       " np.float64(0.09086217008485092),\n",
       " np.float64(0.09086217008485092),\n",
       " np.float64(0.09086217008485092),\n",
       " np.float64(0.09086217008485092),\n",
       " np.float64(0.09086217008485092),\n",
       " np.float64(0.09037128496931669),\n",
       " np.float64(0.09037128496931669),\n",
       " np.float64(0.09037128496931669),\n",
       " np.float64(0.09037128496931669),\n",
       " np.float64(0.09037128496931669),\n",
       " np.float64(0.09037128496931669),\n",
       " np.float64(0.09037128496931669),\n",
       " np.float64(0.09037128496931669),\n",
       " np.float64(0.09037128496931669),\n",
       " np.float64(0.09037128496931669),\n",
       " np.float64(0.08998425413316952),\n",
       " np.float64(0.08998425413316952),\n",
       " np.float64(0.08998425413316952),\n",
       " np.float64(0.08998425413316952),\n",
       " np.float64(0.08998425413316952),\n",
       " np.float64(0.08998425413316952),\n",
       " np.float64(0.08998425413316952),\n",
       " np.float64(0.08998425413316952),\n",
       " np.float64(0.08998425413316952),\n",
       " np.float64(0.08977310580745099),\n",
       " np.float64(0.0891313035643173),\n",
       " np.float64(0.08903057122447033),\n",
       " np.float64(0.08885233166386385),\n",
       " np.float64(0.08885233166386385),\n",
       " np.float64(0.08885233166386385),\n",
       " np.float64(0.08885233166386385),\n",
       " np.float64(0.08885233166386385),\n",
       " np.float64(0.08830215713766959),\n",
       " np.float64(0.08830215713766959),\n",
       " np.float64(0.08830215713766959),\n",
       " np.float64(0.08830215713766959),\n",
       " np.float64(0.08830215713766959),\n",
       " np.float64(0.08830215713766959),\n",
       " np.float64(0.08830215713766959),\n",
       " np.float64(0.08830215713766959),\n",
       " np.float64(0.08797691788472335),\n",
       " np.float64(0.08749572785196143),\n",
       " np.float64(0.08749572785196143),\n",
       " np.float64(0.08746392856766495),\n",
       " np.float64(0.08740748201220976),\n",
       " np.float64(0.08740748201220976),\n",
       " np.float64(0.08740748201220976),\n",
       " np.float64(0.08740748201220976),\n",
       " np.float64(0.08740748201220976),\n",
       " np.float64(0.08740748201220976),\n",
       " np.float64(0.08740748201220976),\n",
       " np.float64(0.08740748201220976),\n",
       " np.float64(0.08740748201220976),\n",
       " np.float64(0.08740748201220976),\n",
       " np.float64(0.08671099695241201),\n",
       " np.float64(0.08671099695241201),\n",
       " np.float64(0.08671099695241201),\n",
       " np.float64(0.08671099695241201),\n",
       " np.float64(0.08671099695241201),\n",
       " np.float64(0.08671099695241201),\n",
       " np.float64(0.08671099695241201),\n",
       " np.float64(0.08671099695241201),\n",
       " np.float64(0.08603090020146065),\n",
       " np.float64(0.08603090020146065),\n",
       " np.float64(0.08603090020146065),\n",
       " np.float64(0.08603090020146065),\n",
       " np.float64(0.08603090020146065),\n",
       " np.float64(0.08603090020146065),\n",
       " np.float64(0.08603090020146065),\n",
       " np.float64(0.08594700851870801),\n",
       " np.float64(0.08594700851870801),\n",
       " np.float64(0.08594700851870801),\n",
       " np.float64(0.08520286456846099),\n",
       " np.float64(0.08520286456846099),\n",
       " np.float64(0.08471737420873576),\n",
       " np.float64(0.08471737420873576),\n",
       " np.float64(0.08471737420873576),\n",
       " np.float64(0.08471737420873576),\n",
       " np.float64(0.08471737420873576),\n",
       " np.float64(0.08471737420873576),\n",
       " np.float64(0.08471737420873576),\n",
       " np.float64(0.08471737420873576),\n",
       " np.float64(0.08447772061910234),\n",
       " np.float64(0.08447772061910234),\n",
       " np.float64(0.08447772061910234),\n",
       " np.float64(0.08447772061910234),\n",
       " np.float64(0.08447772061910234),\n",
       " np.float64(0.0837707816583391),\n",
       " np.float64(0.0837707816583391),\n",
       " np.float64(0.0837707816583391),\n",
       " np.float64(0.0837707816583391),\n",
       " np.float64(0.0837707816583391),\n",
       " np.float64(0.0837707816583391),\n",
       " np.float64(0.0837707816583391),\n",
       " np.float64(0.0837707816583391),\n",
       " np.float64(0.08346223261119858),\n",
       " np.float64(0.08346223261119858),\n",
       " np.float64(0.08346223261119858),\n",
       " np.float64(0.08346223261119858),\n",
       " np.float64(0.08346223261119858),\n",
       " np.float64(0.08346223261119858),\n",
       " np.float64(0.08321783316232578),\n",
       " np.float64(0.0830812984794528),\n",
       " np.float64(0.0830812984794528),\n",
       " np.float64(0.0830812984794528),\n",
       " np.float64(0.08240856434303293),\n",
       " np.float64(0.08240856434303293),\n",
       " np.float64(0.08226127456606226),\n",
       " np.float64(0.08226127456606226),\n",
       " np.float64(0.08226127456606226),\n",
       " np.float64(0.08226127456606226),\n",
       " np.float64(0.08226127456606226),\n",
       " np.float64(0.08226127456606226),\n",
       " np.float64(0.08226127456606226),\n",
       " np.float64(0.08226127456606226),\n",
       " np.float64(0.08226127456606226),\n",
       " np.float64(0.08226127456606226),\n",
       " np.float64(0.08226127456606226),\n",
       " np.float64(0.08226127456606226),\n",
       " np.float64(0.08226127456606226),\n",
       " np.float64(0.08175191193132876),\n",
       " np.float64(0.08175191193132876),\n",
       " np.float64(0.08111071056538127),\n",
       " np.float64(0.08111071056538127),\n",
       " np.float64(0.08111071056538127),\n",
       " np.float64(0.08111071056538127),\n",
       " np.float64(0.08111071056538127),\n",
       " np.float64(0.08111071056538127),\n",
       " np.float64(0.08111071056538127),\n",
       " np.float64(0.08111071056538127),\n",
       " np.float64(0.08111071056538127),\n",
       " np.float64(0.08111071056538127),\n",
       " np.float64(0.08111071056538127),\n",
       " np.float64(0.08111071056538127),\n",
       " np.float64(0.08111071056538127),\n",
       " np.float64(0.08111071056538127),\n",
       " np.float64(0.08111071056538127),\n",
       " np.float64(0.08111071056538127),\n",
       " np.float64(0.08111071056538127),\n",
       " np.float64(0.08111071056538127),\n",
       " np.float64(0.08111071056538127),\n",
       " np.float64(0.08111071056538127),\n",
       " np.float64(0.08111071056538127),\n",
       " np.float64(0.08111071056538127),\n",
       " np.float64(0.08111071056538127),\n",
       " np.float64(0.08111071056538127),\n",
       " np.float64(0.08000711205939975),\n",
       " np.float64(0.08000711205939975),\n",
       " np.float64(0.08000711205939975),\n",
       " np.float64(0.08000711205939975),\n",
       " np.float64(0.08000711205939975),\n",
       " np.float64(0.08000711205939975),\n",
       " np.float64(0.08000711205939975),\n",
       " np.float64(0.08000711205939975),\n",
       " np.float64(0.08000711205939975),\n",
       " np.float64(0.08000711205939975),\n",
       " np.float64(0.07992075789278004),\n",
       " np.float64(0.07987230638308718),\n",
       " np.float64(0.07987230638308718),\n",
       " np.float64(0.07987230638308718),\n",
       " np.float64(0.07987230638308718),\n",
       " np.float64(0.07987230638308718),\n",
       " np.float64(0.07987230638308718),\n",
       " np.float64(0.0792740035289418),\n",
       " np.float64(0.07894736842105264),\n",
       " np.float64(0.07894736842105264),\n",
       " np.float64(0.07894736842105264),\n",
       " np.float64(0.07894736842105264),\n",
       " np.float64(0.07894736842105264),\n",
       " np.float64(0.07894736842105264),\n",
       " np.float64(0.07894736842105264),\n",
       " np.float64(0.07894736842105264),\n",
       " np.float64(0.07894736842105264),\n",
       " np.float64(0.07878168645790681),\n",
       " np.float64(0.07868894753646337),\n",
       " np.float64(0.07868894753646337),\n",
       " np.float64(0.07868894753646337),\n",
       " np.float64(0.07868894753646337),\n",
       " np.float64(0.07868894753646337),\n",
       " np.float64(0.07868894753646337),\n",
       " np.float64(0.07868894753646337),\n",
       " np.float64(0.07868894753646337),\n",
       " np.float64(0.07868894753646337),\n",
       " np.float64(0.07843304784240032),\n",
       " np.float64(0.0781166566864507),\n",
       " np.float64(0.0781166566864507),\n",
       " np.float64(0.07792865001991967),\n",
       " np.float64(0.07792865001991967),\n",
       " np.float64(0.07792865001991967),\n",
       " np.float64(0.07792865001991967),\n",
       " np.float64(0.07792865001991967),\n",
       " np.float64(0.07792865001991967),\n",
       " np.float64(0.07792865001991967),\n",
       " np.float64(0.07792865001991967),\n",
       " np.float64(0.07755667343294813),\n",
       " np.float64(0.07755667343294813),\n",
       " np.float64(0.0770085628656519),\n",
       " np.float64(0.07694837640638656),\n",
       " np.float64(0.07694837640638656),\n",
       " np.float64(0.07694837640638656),\n",
       " np.float64(0.07694837640638656),\n",
       " np.float64(0.07694837640638656),\n",
       " np.float64(0.07694837640638656),\n",
       " np.float64(0.07694837640638656),\n",
       " np.float64(0.07694837640638656),\n",
       " np.float64(0.07694837640638656),\n",
       " np.float64(0.07694837640638656),\n",
       " np.float64(0.07694837640638656),\n",
       " np.float64(0.07647191129018727),\n",
       " np.float64(0.07647191129018727),\n",
       " np.float64(0.07647191129018727),\n",
       " np.float64(0.07647191129018727),\n",
       " np.float64(0.07647191129018727),\n",
       " np.float64(0.07647191129018727),\n",
       " np.float64(0.07647191129018727),\n",
       " np.float64(0.07647191129018727),\n",
       " np.float64(0.07647191129018727),\n",
       " np.float64(0.07647191129018727),\n",
       " np.float64(0.07647191129018727),\n",
       " np.float64(0.076004188790721),\n",
       " np.float64(0.076004188790721),\n",
       " np.float64(0.076004188790721),\n",
       " np.float64(0.076004188790721),\n",
       " np.float64(0.076004188790721),\n",
       " np.float64(0.076004188790721),\n",
       " np.float64(0.076004188790721),\n",
       " np.float64(0.076004188790721),\n",
       " np.float64(0.076004188790721),\n",
       " np.float64(0.076004188790721),\n",
       " np.float64(0.07594632491572426),\n",
       " np.float64(0.07530940414109724),\n",
       " np.float64(0.07509392614826384),\n",
       " np.float64(0.07509392614826384),\n",
       " np.float64(0.07509392614826384),\n",
       " np.float64(0.07509392614826384),\n",
       " np.float64(0.07509392614826384),\n",
       " np.float64(0.07509392614826384),\n",
       " np.float64(0.07509392614826384),\n",
       " np.float64(0.07509392614826384),\n",
       " np.float64(0.07509392614826384),\n",
       " np.float64(0.07509392614826384),\n",
       " np.float64(0.07509392614826384),\n",
       " np.float64(0.07509392614826384),\n",
       " np.float64(0.07492686492653551),\n",
       " np.float64(0.07443229275647868),\n",
       " np.float64(0.07443229275647868),\n",
       " np.float64(0.07443229275647868),\n",
       " np.float64(0.07443229275647868),\n",
       " np.float64(0.07443229275647868),\n",
       " np.float64(0.07443229275647868),\n",
       " np.float64(0.07443229275647868),\n",
       " np.float64(0.07443229275647868),\n",
       " np.float64(0.07443229275647868),\n",
       " np.float64(0.07443229275647868),\n",
       " np.float64(0.07443229275647868),\n",
       " np.float64(0.07443229275647868),\n",
       " np.float64(0.07443229275647868),\n",
       " np.float64(0.07443229275647868),\n",
       " np.float64(0.07443229275647868),\n",
       " np.float64(0.07421560439929402),\n",
       " np.float64(0.07421560439929402),\n",
       " np.float64(0.07421560439929402),\n",
       " np.float64(0.07421560439929402),\n",
       " np.float64(0.07421560439929402),\n",
       " np.float64(0.07394738666465357),\n",
       " np.float64(0.07394738666465357),\n",
       " np.float64(0.07394738666465357),\n",
       " np.float64(0.0734718358370645),\n",
       " np.float64(0.0734718358370645),\n",
       " np.float64(0.07336739820667779),\n",
       " np.float64(0.07336739820667779),\n",
       " np.float64(0.07336739820667779),\n",
       " np.float64(0.07336739820667779),\n",
       " np.float64(0.07336739820667779),\n",
       " np.float64(0.07336739820667779),\n",
       " np.float64(0.07336739820667779),\n",
       " np.float64(0.07336739820667777),\n",
       " np.float64(0.07336739820667777),\n",
       " np.float64(0.07254762501100118),\n",
       " np.float64(0.07254762501100118),\n",
       " np.float64(0.07254762501100118),\n",
       " np.float64(0.07254762501100118),\n",
       " np.float64(0.07254762501100118),\n",
       " np.float64(0.07254762501100118),\n",
       " np.float64(0.07254762501100118),\n",
       " np.float64(0.07254762501100118),\n",
       " np.float64(0.07254762501100116),\n",
       " np.float64(0.07254762501100116),\n",
       " np.float64(0.07254762501100116),\n",
       " np.float64(0.07254762501100116),\n",
       " np.float64(0.07254762501100116),\n",
       " np.float64(0.07254762501100116),\n",
       " np.float64(0.07254762501100116),\n",
       " np.float64(0.07254762501100116),\n",
       " np.float64(0.07254762501100116),\n",
       " np.float64(0.07254762501100116),\n",
       " np.float64(0.07254762501100116),\n",
       " np.float64(0.07254762501100116),\n",
       " np.float64(0.07254762501100116),\n",
       " np.float64(0.07254762501100116),\n",
       " np.float64(0.07254762501100116),\n",
       " np.float64(0.07254762501100116),\n",
       " np.float64(0.07254762501100116),\n",
       " np.float64(0.07254762501100116),\n",
       " np.float64(0.07254762501100116),\n",
       " np.float64(0.07209840939145001),\n",
       " np.float64(0.07209840939145001),\n",
       " np.float64(0.07175473098524099),\n",
       " np.float64(0.07175473098524099),\n",
       " np.float64(0.07175473098524099),\n",
       " np.float64(0.07175473098524099),\n",
       " np.float64(0.07175473098524099),\n",
       " np.float64(0.07175473098524099),\n",
       " np.float64(0.07175473098524099),\n",
       " np.float64(0.07175473098524099),\n",
       " np.float64(0.07175473098524099),\n",
       " np.float64(0.07175473098524099),\n",
       " np.float64(0.07175473098524099),\n",
       " np.float64(0.07175473098524099),\n",
       " np.float64(0.07175473098524099),\n",
       " np.float64(0.07098727864204515),\n",
       " np.float64(0.07098727864204515),\n",
       " np.float64(0.07098727864204515),\n",
       " np.float64(0.07098727864204515),\n",
       " np.float64(0.07098727864204515),\n",
       " np.float64(0.07098727864204515),\n",
       " np.float64(0.07098727864204515),\n",
       " np.float64(0.07098727864204515),\n",
       " np.float64(0.07098727864204515),\n",
       " np.float64(0.07098727864204515),\n",
       " np.float64(0.07098727864204515),\n",
       " np.float64(0.07098727864204515),\n",
       " np.float64(0.07098727864204515),\n",
       " np.float64(0.07079923254047887),\n",
       " np.float64(0.07079923254047887),\n",
       " np.float64(0.07079923254047887),\n",
       " np.float64(0.07079923254047887),\n",
       " np.float64(0.07079923254047887),\n",
       " np.float64(0.07079923254047887),\n",
       " np.float64(0.07079923254047887),\n",
       " np.float64(0.07038153430777869),\n",
       " np.float64(0.07038153430777869),\n",
       " np.float64(0.07024393586862707),\n",
       " np.float64(0.07024393586862707),\n",
       " np.float64(0.07024393586862707),\n",
       " np.float64(0.07024393586862707),\n",
       " np.float64(0.07024393586862707),\n",
       " np.float64(0.06952346619889824),\n",
       " np.float64(0.06952346619889824),\n",
       " np.float64(0.06952346619889824),\n",
       " np.float64(0.06952346619889824),\n",
       " np.float64(0.06952346619889824),\n",
       " np.float64(0.06952346619889824),\n",
       " np.float64(0.06952346619889824),\n",
       " np.float64(0.06952346619889824),\n",
       " np.float64(0.06917144638660747),\n",
       " np.float64(0.06917144638660747),\n",
       " np.float64(0.06917144638660747),\n",
       " np.float64(0.06917144638660747),\n",
       " np.float64(0.06882472016116853),\n",
       " np.float64(0.06882472016116853),\n",
       " np.float64(0.06882472016116853),\n",
       " np.float64(0.06882472016116853),\n",
       " np.float64(0.06882472016116853),\n",
       " np.float64(0.06882472016116853),\n",
       " np.float64(0.06882472016116853),\n",
       " np.float64(0.06814662756363819),\n",
       " np.float64(0.06814662756363819),\n",
       " np.float64(0.06814662756363819),\n",
       " np.float64(0.06814662756363819),\n",
       " np.float64(0.06814662756363819),\n",
       " np.float64(0.06814662756363819),\n",
       " np.float64(0.06814662756363819),\n",
       " np.float64(0.06814662756363819),\n",
       " np.float64(0.06814662756363819),\n",
       " np.float64(0.06814662756363819),\n",
       " np.float64(0.06814662756363819),\n",
       " np.float64(0.06765100914917384),\n",
       " np.float64(0.06765100914917384),\n",
       " np.float64(0.06765100914917384),\n",
       " np.float64(0.06765100914917384),\n",
       " np.float64(0.06765100914917384),\n",
       " np.float64(0.06765100914917384),\n",
       " np.float64(0.06765100914917384),\n",
       " np.float64(0.06765100914917384),\n",
       " np.float64(0.06765100914917384),\n",
       " np.float64(0.06765100914917384),\n",
       " np.float64(0.06765100914917384),\n",
       " np.float64(0.06765100914917384),\n",
       " np.float64(0.06765100914917384),\n",
       " np.float64(0.06765100914917384),\n",
       " np.float64(0.06765100914917384),\n",
       " np.float64(0.06765100914917384),\n",
       " np.float64(0.06765100914917384),\n",
       " np.float64(0.06765100914917384),\n",
       " np.float64(0.06748819059987714),\n",
       " np.float64(0.06748819059987714),\n",
       " np.float64(0.06748819059987714),\n",
       " np.float64(0.06748819059987714),\n",
       " np.float64(0.06748819059987714),\n",
       " np.float64(0.06748819059987714),\n",
       " np.float64(0.0672863110252489),\n",
       " np.float64(0.06692744814102547),\n",
       " np.float64(0.06684847767323797),\n",
       " np.float64(0.06684847767323797),\n",
       " np.float64(0.06684847767323797),\n",
       " np.float64(0.06684847767323797),\n",
       " np.float64(0.06657426652986062),\n",
       " np.float64(0.0662266178532522),\n",
       " np.float64(0.0662266178532522),\n",
       " np.float64(0.0662266178532522),\n",
       " np.float64(0.0662266178532522),\n",
       " np.float64(0.0662266178532522),\n",
       " np.float64(0.0662266178532522),\n",
       " np.float64(0.0662266178532522),\n",
       " np.float64(0.0662266178532522),\n",
       " np.float64(0.0662266178532522),\n",
       " np.float64(0.0662266178532522),\n",
       " np.float64(0.0662266178532522),\n",
       " np.float64(0.0662266178532522),\n",
       " np.float64(0.0662266178532522),\n",
       " np.float64(0.0662266178532522),\n",
       " np.float64(0.0662266178532522),\n",
       " np.float64(0.0662266178532522),\n",
       " np.float64(0.06622661785325219),\n",
       " np.float64(0.06622661785325219),\n",
       " np.float64(0.06622661785325219),\n",
       " np.float64(0.06622661785325219),\n",
       " np.float64(0.06622661785325219),\n",
       " np.float64(0.06622661785325219),\n",
       " np.float64(0.06622661785325219),\n",
       " np.float64(0.06622661785325219),\n",
       " np.float64(0.06622661785325219),\n",
       " np.float64(0.06622661785325219),\n",
       " np.float64(0.06578947368421054),\n",
       " np.float64(0.06562179588897107),\n",
       " np.float64(0.06562179588897107),\n",
       " np.float64(0.06562179588897107),\n",
       " np.float64(0.06562179588897107),\n",
       " np.float64(0.06562179588897107),\n",
       " np.float64(0.06562179588897107),\n",
       " np.float64(0.06562179588897107),\n",
       " np.float64(0.06521546507260247),\n",
       " np.float64(0.065033247714309),\n",
       " np.float64(0.065033247714309),\n",
       " np.float64(0.065033247714309),\n",
       " np.float64(0.065033247714309),\n",
       " np.float64(0.065033247714309),\n",
       " np.float64(0.06488856845230502),\n",
       " np.float64(0.06488856845230502),\n",
       " np.float64(0.06488856845230502),\n",
       " np.float64(0.06488856845230502),\n",
       " np.float64(0.06488856845230502),\n",
       " np.float64(0.06488856845230502),\n",
       " np.float64(0.06488856845230502),\n",
       " np.float64(0.06488856845230502),\n",
       " np.float64(0.06488856845230502),\n",
       " np.float64(0.06488856845230502),\n",
       " np.float64(0.06488856845230502),\n",
       " np.float64(0.06488856845230502),\n",
       " np.float64(0.06488856845230502),\n",
       " np.float64(0.06488856845230502),\n",
       " np.float64(0.06488856845230502),\n",
       " np.float64(0.06488856845230502),\n",
       " np.float64(0.06488856845230502),\n",
       " np.float64(0.06488856845230502),\n",
       " np.float64(0.06488856845230502),\n",
       " np.float64(0.06488856845230502),\n",
       " np.float64(0.06446025638903101),\n",
       " np.float64(0.06446025638903101),\n",
       " np.float64(0.06446025638903101),\n",
       " np.float64(0.06446025638903101),\n",
       " np.float64(0.06446025638903101),\n",
       " np.float64(0.06424925662032356),\n",
       " np.float64(0.06390214842634574),\n",
       " np.float64(0.06390214842634574),\n",
       " np.float64(0.06390214842634574),\n",
       " np.float64(0.06390214842634574),\n",
       " np.float64(0.06390214842634574),\n",
       " np.float64(0.06390214842634574),\n",
       " np.float64(0.06390214842634574),\n",
       " np.float64(0.06362847629757779),\n",
       " np.float64(0.06362847629757779),\n",
       " np.float64(0.06362847629757779),\n",
       " np.float64(0.06362847629757779),\n",
       " np.float64(0.06362847629757779),\n",
       " np.float64(0.06362847629757779),\n",
       " np.float64(0.06362847629757779),\n",
       " np.float64(0.06362847629757779),\n",
       " np.float64(0.06362847629757779),\n",
       " np.float64(0.06362847629757779),\n",
       " np.float64(0.06362847629757779),\n",
       " np.float64(0.06362847629757779),\n",
       " np.float64(0.06362847629757779),\n",
       " np.float64(0.06362847629757779),\n",
       " np.float64(0.06362847629757779),\n",
       " np.float64(0.06362847629757779),\n",
       " np.float64(0.06362847629757779),\n",
       " np.float64(0.06362847629757779),\n",
       " np.float64(0.06362847629757779),\n",
       " np.float64(0.06362847629757779),\n",
       " np.float64(0.06362847629757779),\n",
       " np.float64(0.06335829046432676),\n",
       " np.float64(0.06335829046432676),\n",
       " np.float64(0.06335829046432676),\n",
       " np.float64(0.06335829046432676),\n",
       " np.float64(0.06335829046432676),\n",
       " np.float64(0.06282808624375433),\n",
       " np.float64(0.06282808624375433),\n",
       " np.float64(0.06282808624375433),\n",
       " np.float64(0.06282808624375433),\n",
       " np.float64(0.06282808624375433),\n",
       " np.float64(0.06243905410544627),\n",
       " np.float64(0.06243905410544627),\n",
       " np.float64(0.06243905410544627),\n",
       " np.float64(0.06243905410544627),\n",
       " np.float64(0.06243905410544627),\n",
       " np.float64(0.06243905410544627),\n",
       " np.float64(0.06243905410544627),\n",
       " np.float64(0.06243905410544627),\n",
       " np.float64(0.06243905410544627),\n",
       " np.float64(0.06243905410544627),\n",
       " np.float64(0.06243905410544627),\n",
       " np.float64(0.0623109738595896),\n",
       " np.float64(0.0623109738595896),\n",
       " np.float64(0.0623109738595896),\n",
       " np.float64(0.0623109738595896),\n",
       " np.float64(0.0623109738595896),\n",
       " np.float64(0.0623109738595896),\n",
       " np.float64(0.0623109738595896),\n",
       " np.float64(0.0623109738595896),\n",
       " np.float64(0.061806423257274694),\n",
       " np.float64(0.061806423257274694),\n",
       " np.float64(0.061806423257274694),\n",
       " np.float64(0.061806423257274694),\n",
       " np.float64(0.06131393394849658),\n",
       " np.float64(0.06131393394849658),\n",
       " np.float64(0.06131393394849658),\n",
       " np.float64(0.06131393394849658),\n",
       " np.float64(0.06131393394849658),\n",
       " np.float64(0.06131393394849658),\n",
       " np.float64(0.06131393394849658),\n",
       " np.float64(0.06131393394849658),\n",
       " np.float64(0.06131393394849658),\n",
       " np.float64(0.06131393394849658),\n",
       " np.float64(0.06131393394849658),\n",
       " np.float64(0.06131393394849658),\n",
       " np.float64(0.06131393394849658),\n",
       " np.float64(0.06131393394849658),\n",
       " np.float64(0.06131393394849658),\n",
       " np.float64(0.06131393394849658),\n",
       " np.float64(0.06131393394849658),\n",
       " np.float64(0.06131393394849658),\n",
       " np.float64(0.06131393394849658),\n",
       " np.float64(0.06131393394849658),\n",
       " np.float64(0.06131393394849658),\n",
       " np.float64(0.06131393394849658),\n",
       " np.float64(0.06131393394849658),\n",
       " np.float64(0.06131393394849658),\n",
       " np.float64(0.061313933948496574),\n",
       " np.float64(0.061313933948496574),\n",
       " np.float64(0.061313933948496574),\n",
       " np.float64(0.060833032924035954),\n",
       " np.float64(0.060833032924035954),\n",
       " np.float64(0.060833032924035954),\n",
       " np.float64(0.060833032924035954),\n",
       " np.float64(0.060833032924035954),\n",
       " np.float64(0.060363272743915036),\n",
       " np.float64(0.0602475233128778),\n",
       " np.float64(0.0602475233128778),\n",
       " np.float64(0.0602475233128778),\n",
       " np.float64(0.0602475233128778),\n",
       " np.float64(0.0602475233128778),\n",
       " np.float64(0.0602475233128778),\n",
       " np.float64(0.0602475233128778),\n",
       " np.float64(0.0602475233128778),\n",
       " ...]"
      ]
     },
     "execution_count": 51,
     "metadata": {},
     "output_type": "execute_result"
    }
   ],
   "source": [
    "sorted(similarity[0],reverse=True)"
   ]
  },
  {
   "cell_type": "code",
   "execution_count": 52,
   "id": "ee9716bc-4c5e-4455-bdc0-df8ecfe88d47",
   "metadata": {},
   "outputs": [
    {
     "data": {
      "text/plain": [
       "[(1214, np.float64(0.28676966733820225)),\n",
       " (2405, np.float64(0.26901379342448517)),\n",
       " (3728, np.float64(0.2605130246476754)),\n",
       " (507, np.float64(0.255608593705383)),\n",
       " (539, np.float64(0.25038669783359574))]"
      ]
     },
     "execution_count": 52,
     "metadata": {},
     "output_type": "execute_result"
    }
   ],
   "source": [
    "sorted(list(enumerate(similarity[0])),reverse=True,key=lambda x:x[1])[1:6]"
   ]
  },
  {
   "cell_type": "code",
   "execution_count": 53,
   "id": "467c82b4-6a76-4ce1-aef1-3292acf79364",
   "metadata": {},
   "outputs": [],
   "source": [
    "def recommend(movie):\n",
    "    movie_index=new_df[new_df['title']==movie].index[0]\n",
    "    distances=similarity[movie_index]\n",
    "    movies_list=sorted(list(enumerate(distances)),reverse=True,key=lambda x:x[1])[1:6]\n",
    "    for i in movies_list:\n",
    "        print(new_df.iloc[i[0]].title)\n",
    "        \n",
    "    "
   ]
  },
  {
   "cell_type": "code",
   "execution_count": 54,
   "id": "06a54b47-5525-4d1d-8f7e-3846e9d829c1",
   "metadata": {},
   "outputs": [
    {
     "name": "stdout",
     "output_type": "stream",
     "text": [
      "Aliens vs Predator: Requiem\n",
      "Aliens\n",
      "Falcon Rising\n",
      "Independence Day\n",
      "Titan A.E.\n"
     ]
    }
   ],
   "source": [
    "recommend('Avatar')"
   ]
  },
  {
   "cell_type": "code",
   "execution_count": 55,
   "id": "65d94fee-356b-4fb9-bb02-b351c8970843",
   "metadata": {},
   "outputs": [
    {
     "data": {
      "text/plain": [
       "'Aliens vs Predator: Requiem'"
      ]
     },
     "execution_count": 55,
     "metadata": {},
     "output_type": "execute_result"
    }
   ],
   "source": [
    "new_df.iloc[1214].title"
   ]
  },
  {
   "cell_type": "code",
   "execution_count": 56,
   "id": "08c0012b-041c-4158-96ff-eac9bc4393d8",
   "metadata": {},
   "outputs": [
    {
     "name": "stdout",
     "output_type": "stream",
     "text": [
      "The Dark Knight\n",
      "Batman\n",
      "Batman\n",
      "The Dark Knight Rises\n",
      "10th & Wolf\n"
     ]
    }
   ],
   "source": [
    "recommend('Batman Begins')"
   ]
  },
  {
   "cell_type": "code",
   "execution_count": 57,
   "id": "460c0f1d-a516-48bb-9fb7-cea47bfcacf3",
   "metadata": {},
   "outputs": [],
   "source": [
    "import pickle"
   ]
  },
  {
   "cell_type": "code",
   "execution_count": 58,
   "id": "cf6b1ff9-2d3a-4903-8728-f147a1555b4e",
   "metadata": {},
   "outputs": [],
   "source": [
    "pickle.dump(new_df,open('movies.pkl','wb'))"
   ]
  },
  {
   "cell_type": "code",
   "execution_count": 59,
   "id": "05543318-d712-4475-8b35-b8125e9b7f88",
   "metadata": {},
   "outputs": [
    {
     "data": {
      "text/plain": [
       "array(['Avatar', \"Pirates of the Caribbean: At World's End\", 'Spectre',\n",
       "       ..., 'Signed, Sealed, Delivered', 'Shanghai Calling',\n",
       "       'My Date with Drew'], dtype=object)"
      ]
     },
     "execution_count": 59,
     "metadata": {},
     "output_type": "execute_result"
    }
   ],
   "source": [
    "new_df['title'].values"
   ]
  },
  {
   "cell_type": "code",
   "execution_count": 60,
   "id": "dd059880-bdea-4d89-bca9-b8d16283dc71",
   "metadata": {},
   "outputs": [],
   "source": [
    "pickle.dump(new_df.to_dict(),open('movie_dict.pkl','wb'))"
   ]
  },
  {
   "cell_type": "code",
   "execution_count": 61,
   "id": "9a02edb9-f077-40ee-b8de-227cd3eff5ec",
   "metadata": {},
   "outputs": [],
   "source": [
    "def recommend(movie):\n",
    "    movie_index = movies[movies['title'] == movie].index[0]\n",
    "    distances = similarity[movie_index]\n",
    "    movies_list = sorted(list(enumerate(distances)), reverse=True, key=lambda x: x[1])[1:6]\n",
    "    for i in movies_list:\n",
    "        print(new_df.iloc[i[0]].title)"
   ]
  },
  {
   "cell_type": "code",
   "execution_count": 62,
   "id": "3a6b2cb4-2fde-4001-b468-753c94151164",
   "metadata": {},
   "outputs": [
    {
     "name": "stdout",
     "output_type": "stream",
     "text": [
      "The Dark Knight\n",
      "Batman\n",
      "Batman\n",
      "The Dark Knight Rises\n",
      "10th & Wolf\n"
     ]
    }
   ],
   "source": [
    "recommend('Batman Begins')"
   ]
  }
 ],
 "metadata": {
  "kernelspec": {
   "display_name": "Python 3 (ipykernel)",
   "language": "python",
   "name": "python3"
  },
  "language_info": {
   "codemirror_mode": {
    "name": "ipython",
    "version": 3
   },
   "file_extension": ".py",
   "mimetype": "text/x-python",
   "name": "python",
   "nbconvert_exporter": "python",
   "pygments_lexer": "ipython3",
   "version": "3.12.4"
  }
 },
 "nbformat": 4,
 "nbformat_minor": 5
}
